{
  "cells": [
    {
      "cell_type": "markdown",
      "metadata": {
        "id": "view-in-github",
        "colab_type": "text"
      },
      "source": [
        "<a href=\"https://colab.research.google.com/github/Youhanna-Yousry/Face-Recognition/blob/master/FaceRecognition.ipynb\" target=\"_parent\"><img src=\"https://colab.research.google.com/assets/colab-badge.svg\" alt=\"Open In Colab\"/></a>"
      ]
    },
    {
      "cell_type": "markdown",
      "metadata": {
        "id": "hWB-NXsy7q1r"
      },
      "source": [
        "# Face Recognition\n"
      ]
    },
    {
      "cell_type": "markdown",
      "metadata": {
        "id": "oWyHuOHa7zBD"
      },
      "source": [
        "## Problem statement\n",
        "We intend to perform face recognition. Face recognition means that for a given image you can tell the subject id. Our database of subject is very simple. It has 40 subjects. Below we will show the needed steps to achieve the goal of the assignment. ([assignment link](https://github.com/Youhanna-Yousry/Face-Recognition/blob/master/assets/CSE352_Assignment_1.pdf))"
      ]
    },
    {
      "cell_type": "markdown",
      "metadata": {
        "id": "bC9Jj-3rMl59"
      },
      "source": [
        "## Imports"
      ]
    },
    {
      "cell_type": "code",
      "execution_count": null,
      "metadata": {
        "id": "iWvWegIkMoJc"
      },
      "outputs": [],
      "source": [
        "import os\n",
        "import numpy as np\n",
        "import re\n",
        "import cv2\n",
        "from sklearn.neighbors import KNeighborsClassifier\n",
        "import matplotlib.pyplot as plt\n",
        "from scipy import linalg\n",
        "from sklearn.model_selection import train_test_split\n",
        "from sklearn.decomposition import PCA as PCA_Randomized\n",
        "from sklearn.discriminant_analysis import LinearDiscriminantAnalysis as Shrinkage_LDA\n",
        "import pandas as pd\n",
        "import time"
      ]
    },
    {
      "cell_type": "markdown",
      "metadata": {
        "id": "Ark9cUW38Lf-"
      },
      "source": [
        "## 1.Downloading the dataset and understanding its format\n",
        "Credits to AT&T Laboratories Cambridge.\n",
        "The data set contains 40 different subject each has 10 grayscale images of size 92x112.\n",
        "Images are saved in PGM format (stands for Portable Gray Map) and each pixel has a value between 0 and 255. ([ORL database of faces link ](https://www.kaggle.com/datasets/kasikrit/att-database-of-faces))"
      ]
    },
    {
      "cell_type": "code",
      "execution_count": null,
      "metadata": {
        "colab": {
          "base_uri": "https://localhost:8080/",
          "height": 541
        },
        "id": "-Wu6XP1SomeR",
        "outputId": "cfed0892-930e-4faf-a6d5-cc5d9e275998"
      },
      "outputs": [
        {
          "data": {
            "text/html": [
              "\n",
              "     <input type=\"file\" id=\"files-3e1e7baf-148a-44c3-9537-30c30d24939e\" name=\"files[]\" multiple disabled\n",
              "        style=\"border:none\" />\n",
              "     <output id=\"result-3e1e7baf-148a-44c3-9537-30c30d24939e\">\n",
              "      Upload widget is only available when the cell has been executed in the\n",
              "      current browser session. Please rerun this cell to enable.\n",
              "      </output>\n",
              "      <script>// Copyright 2017 Google LLC\n",
              "//\n",
              "// Licensed under the Apache License, Version 2.0 (the \"License\");\n",
              "// you may not use this file except in compliance with the License.\n",
              "// You may obtain a copy of the License at\n",
              "//\n",
              "//      http://www.apache.org/licenses/LICENSE-2.0\n",
              "//\n",
              "// Unless required by applicable law or agreed to in writing, software\n",
              "// distributed under the License is distributed on an \"AS IS\" BASIS,\n",
              "// WITHOUT WARRANTIES OR CONDITIONS OF ANY KIND, either express or implied.\n",
              "// See the License for the specific language governing permissions and\n",
              "// limitations under the License.\n",
              "\n",
              "/**\n",
              " * @fileoverview Helpers for google.colab Python module.\n",
              " */\n",
              "(function(scope) {\n",
              "function span(text, styleAttributes = {}) {\n",
              "  const element = document.createElement('span');\n",
              "  element.textContent = text;\n",
              "  for (const key of Object.keys(styleAttributes)) {\n",
              "    element.style[key] = styleAttributes[key];\n",
              "  }\n",
              "  return element;\n",
              "}\n",
              "\n",
              "// Max number of bytes which will be uploaded at a time.\n",
              "const MAX_PAYLOAD_SIZE = 100 * 1024;\n",
              "\n",
              "function _uploadFiles(inputId, outputId) {\n",
              "  const steps = uploadFilesStep(inputId, outputId);\n",
              "  const outputElement = document.getElementById(outputId);\n",
              "  // Cache steps on the outputElement to make it available for the next call\n",
              "  // to uploadFilesContinue from Python.\n",
              "  outputElement.steps = steps;\n",
              "\n",
              "  return _uploadFilesContinue(outputId);\n",
              "}\n",
              "\n",
              "// This is roughly an async generator (not supported in the browser yet),\n",
              "// where there are multiple asynchronous steps and the Python side is going\n",
              "// to poll for completion of each step.\n",
              "// This uses a Promise to block the python side on completion of each step,\n",
              "// then passes the result of the previous step as the input to the next step.\n",
              "function _uploadFilesContinue(outputId) {\n",
              "  const outputElement = document.getElementById(outputId);\n",
              "  const steps = outputElement.steps;\n",
              "\n",
              "  const next = steps.next(outputElement.lastPromiseValue);\n",
              "  return Promise.resolve(next.value.promise).then((value) => {\n",
              "    // Cache the last promise value to make it available to the next\n",
              "    // step of the generator.\n",
              "    outputElement.lastPromiseValue = value;\n",
              "    return next.value.response;\n",
              "  });\n",
              "}\n",
              "\n",
              "/**\n",
              " * Generator function which is called between each async step of the upload\n",
              " * process.\n",
              " * @param {string} inputId Element ID of the input file picker element.\n",
              " * @param {string} outputId Element ID of the output display.\n",
              " * @return {!Iterable<!Object>} Iterable of next steps.\n",
              " */\n",
              "function* uploadFilesStep(inputId, outputId) {\n",
              "  const inputElement = document.getElementById(inputId);\n",
              "  inputElement.disabled = false;\n",
              "\n",
              "  const outputElement = document.getElementById(outputId);\n",
              "  outputElement.innerHTML = '';\n",
              "\n",
              "  const pickedPromise = new Promise((resolve) => {\n",
              "    inputElement.addEventListener('change', (e) => {\n",
              "      resolve(e.target.files);\n",
              "    });\n",
              "  });\n",
              "\n",
              "  const cancel = document.createElement('button');\n",
              "  inputElement.parentElement.appendChild(cancel);\n",
              "  cancel.textContent = 'Cancel upload';\n",
              "  const cancelPromise = new Promise((resolve) => {\n",
              "    cancel.onclick = () => {\n",
              "      resolve(null);\n",
              "    };\n",
              "  });\n",
              "\n",
              "  // Wait for the user to pick the files.\n",
              "  const files = yield {\n",
              "    promise: Promise.race([pickedPromise, cancelPromise]),\n",
              "    response: {\n",
              "      action: 'starting',\n",
              "    }\n",
              "  };\n",
              "\n",
              "  cancel.remove();\n",
              "\n",
              "  // Disable the input element since further picks are not allowed.\n",
              "  inputElement.disabled = true;\n",
              "\n",
              "  if (!files) {\n",
              "    return {\n",
              "      response: {\n",
              "        action: 'complete',\n",
              "      }\n",
              "    };\n",
              "  }\n",
              "\n",
              "  for (const file of files) {\n",
              "    const li = document.createElement('li');\n",
              "    li.append(span(file.name, {fontWeight: 'bold'}));\n",
              "    li.append(span(\n",
              "        `(${file.type || 'n/a'}) - ${file.size} bytes, ` +\n",
              "        `last modified: ${\n",
              "            file.lastModifiedDate ? file.lastModifiedDate.toLocaleDateString() :\n",
              "                                    'n/a'} - `));\n",
              "    const percent = span('0% done');\n",
              "    li.appendChild(percent);\n",
              "\n",
              "    outputElement.appendChild(li);\n",
              "\n",
              "    const fileDataPromise = new Promise((resolve) => {\n",
              "      const reader = new FileReader();\n",
              "      reader.onload = (e) => {\n",
              "        resolve(e.target.result);\n",
              "      };\n",
              "      reader.readAsArrayBuffer(file);\n",
              "    });\n",
              "    // Wait for the data to be ready.\n",
              "    let fileData = yield {\n",
              "      promise: fileDataPromise,\n",
              "      response: {\n",
              "        action: 'continue',\n",
              "      }\n",
              "    };\n",
              "\n",
              "    // Use a chunked sending to avoid message size limits. See b/62115660.\n",
              "    let position = 0;\n",
              "    do {\n",
              "      const length = Math.min(fileData.byteLength - position, MAX_PAYLOAD_SIZE);\n",
              "      const chunk = new Uint8Array(fileData, position, length);\n",
              "      position += length;\n",
              "\n",
              "      const base64 = btoa(String.fromCharCode.apply(null, chunk));\n",
              "      yield {\n",
              "        response: {\n",
              "          action: 'append',\n",
              "          file: file.name,\n",
              "          data: base64,\n",
              "        },\n",
              "      };\n",
              "\n",
              "      let percentDone = fileData.byteLength === 0 ?\n",
              "          100 :\n",
              "          Math.round((position / fileData.byteLength) * 100);\n",
              "      percent.textContent = `${percentDone}% done`;\n",
              "\n",
              "    } while (position < fileData.byteLength);\n",
              "  }\n",
              "\n",
              "  // All done.\n",
              "  yield {\n",
              "    response: {\n",
              "      action: 'complete',\n",
              "    }\n",
              "  };\n",
              "}\n",
              "\n",
              "scope.google = scope.google || {};\n",
              "scope.google.colab = scope.google.colab || {};\n",
              "scope.google.colab._files = {\n",
              "  _uploadFiles,\n",
              "  _uploadFilesContinue,\n",
              "};\n",
              "})(self);\n",
              "</script> "
            ],
            "text/plain": [
              "<IPython.core.display.HTML object>"
            ]
          },
          "metadata": {},
          "output_type": "display_data"
        },
        {
          "name": "stdout",
          "output_type": "stream",
          "text": [
            "Saving kaggle.json to kaggle.json\n",
            "ref                                                        title                                        size  lastUpdated          downloadCount  voteCount  usabilityRating  \n",
            "---------------------------------------------------------  ------------------------------------------  -----  -------------------  -------------  ---------  ---------------  \n",
            "themrityunjaypathak/covid-cases-and-deaths-worldwide       Covid Cases and Deaths WorldWide              8KB  2023-02-01 12:22:51          10437        344  1.0              \n",
            "datascientistanna/customers-dataset                        Shop Customer Data                           23KB  2023-02-07 18:42:21           8852        205  1.0              \n",
            "justin2028/unemployment-in-america-per-us-state            Unemployment in America, Per US State       826KB  2023-03-02 07:26:03            859         46  1.0              \n",
            "anas123siddiqui/mobiles                                    Mobiles                                      59KB  2023-02-18 16:37:24           1469         44  1.0              \n",
            "amaanansari09/top-100-songs                                Top 100 songs                                 6KB  2023-02-16 18:55:35           2797         87  1.0              \n",
            "thedevastator/airbnb-prices-in-european-cities             Airbnb Prices in European Cities              4MB  2023-02-20 09:48:04           2997         62  1.0              \n",
            "rkiattisak/salaly-prediction-for-beginer                   Salary prediction for beginner                3KB  2023-03-07 02:45:11            468         28  1.0              \n",
            "nikhilmahajan29/crop-production-statistics-india           Crop Production Statistics - India            3MB  2023-02-28 18:45:13            969         31  1.0              \n",
            "rajugc/imdb-top-250-movies-dataset                         IMDB Top 250 Movies Dataset                  52KB  2023-02-11 16:02:01           3664         83  1.0              \n",
            "karkavelrajaj/amazon-sales-dataset                         Amazon Sales Dataset                          2MB  2023-01-17 06:21:15          11077        165  1.0              \n",
            "ulrikthygepedersen/mushroom-attributes                     Mushroom Attributes                          58KB  2023-02-10 08:58:02            907         29  1.0              \n",
            "rajkumarpandey02/countries-by-carbon-dioxide-emissions     Countries by Carbon Dioxide Emissions.        7KB  2023-02-25 17:51:36            957         36  1.0              \n",
            "shrikrishnaparab/forbes-billionaires-and-companies-2022    Forbes Billionaires and Companies 2022      735KB  2023-02-17 06:15:43           1055         24  1.0              \n",
            "niraliivaghani/chatbot-dataset                             Chatbot dataset                               5KB  2023-02-19 05:49:34           1063         37  1.0              \n",
            "thedevastator/bigmart-product-sales-factors                BigMart Product Sales Factors               367KB  2023-02-10 10:36:55            962         30  0.88235295       \n",
            "warcoder/earthquake-dataset                                Earthquake dataset                           35KB  2023-02-26 09:59:04            948         34  1.0              \n",
            "belayethossainds/the-worlds-billionaires-dataset-19872022  The World's Billionaires Dataset 1987~2022    5KB  2023-02-23 07:14:19            589         29  1.0              \n",
            "thedevastator/domestic-food-prices-after-covid-19          Domestic Food Prices After COVID-19           1MB  2023-02-13 01:45:15           2563         47  1.0              \n",
            "warcoder/dog-breeds-details                                Dog breeds details                            3KB  2023-03-02 14:01:08            750         30  0.9411765        \n",
            "dansbecker/melbourne-housing-snapshot                      Melbourne Housing Snapshot                  451KB  2018-06-05 12:52:24         109220       1222  0.7058824        \n",
            "Downloading att-database-of-faces.zip to /content\n",
            "  0% 0.00/3.61M [00:00<?, ?B/s]\n",
            "100% 3.61M/3.61M [00:00<00:00, 190MB/s]\n",
            "Archive:  archive.zip\n",
            "replace /faces-dataset/README? [y]es, [n]o, [A]ll, [N]one, [r]ename: N\n"
          ]
        }
      ],
      "source": [
        "# kaggle api setup\n",
        "\n",
        "!pip install -q kaggle\n",
        "\n",
        "from google.colab import files\n",
        "\n",
        "files.upload()\n",
        "\n",
        "!mkdir -p ~/.kaggle\n",
        "!cp kaggle.json ~/.kaggle/\n",
        "!chmod 600 ~/.kaggle/kaggle.json\n",
        "!kaggle datasets list\n",
        "\n",
        "# downloading faces dataset\n",
        "\n",
        "!kaggle datasets download -d kasikrit/att-database-of-faces\n",
        "!unzip archive.zip -d /faces-dataset"
      ]
    },
    {
      "cell_type": "markdown",
      "metadata": {
        "id": "jcOw5N0e0Gwf"
      },
      "source": [
        "Downloading faces-dataset from Google Drive and extracting them into root directory of Colab notebook"
      ]
    },
    {
      "cell_type": "code",
      "execution_count": null,
      "metadata": {
        "colab": {
          "base_uri": "https://localhost:8080/"
        },
        "id": "3mMHVuBX7yjB",
        "outputId": "a35c12fd-14d3-48e0-ec73-e5885cd013a2"
      },
      "outputs": [
        {
          "name": "stdout",
          "output_type": "stream",
          "text": [
            "Downloading...\n",
            "From: https://drive.google.com/uc?id=1jpCPSCpBMZyYXj_YrqHNVZDr0Tlx3jdq\n",
            "To: /content/archive.zip\n",
            "\r  0% 0.00/3.78M [00:00<?, ?B/s]\r100% 3.78M/3.78M [00:00<00:00, 218MB/s]\n",
            "Archive:  archive.zip\n",
            "  inflating: /faces-dataset/README   \n",
            "  inflating: /faces-dataset/s1/1.pgm  \n",
            "  inflating: /faces-dataset/s1/10.pgm  \n",
            "  inflating: /faces-dataset/s1/2.pgm  \n",
            "  inflating: /faces-dataset/s1/3.pgm  \n",
            "  inflating: /faces-dataset/s1/4.pgm  \n",
            "  inflating: /faces-dataset/s1/5.pgm  \n",
            "  inflating: /faces-dataset/s1/6.pgm  \n",
            "  inflating: /faces-dataset/s1/7.pgm  \n",
            "  inflating: /faces-dataset/s1/8.pgm  \n",
            "  inflating: /faces-dataset/s1/9.pgm  \n",
            "  inflating: /faces-dataset/s10/1.pgm  \n",
            "  inflating: /faces-dataset/s10/10.pgm  \n",
            "  inflating: /faces-dataset/s10/2.pgm  \n",
            "  inflating: /faces-dataset/s10/3.pgm  \n",
            "  inflating: /faces-dataset/s10/4.pgm  \n",
            "  inflating: /faces-dataset/s10/5.pgm  \n",
            "  inflating: /faces-dataset/s10/6.pgm  \n",
            "  inflating: /faces-dataset/s10/7.pgm  \n",
            "  inflating: /faces-dataset/s10/8.pgm  \n",
            "  inflating: /faces-dataset/s10/9.pgm  \n",
            "  inflating: /faces-dataset/s11/1.pgm  \n",
            "  inflating: /faces-dataset/s11/10.pgm  \n",
            "  inflating: /faces-dataset/s11/2.pgm  \n",
            "  inflating: /faces-dataset/s11/3.pgm  \n",
            "  inflating: /faces-dataset/s11/4.pgm  \n",
            "  inflating: /faces-dataset/s11/5.pgm  \n",
            "  inflating: /faces-dataset/s11/6.pgm  \n",
            "  inflating: /faces-dataset/s11/7.pgm  \n",
            "  inflating: /faces-dataset/s11/8.pgm  \n",
            "  inflating: /faces-dataset/s11/9.pgm  \n",
            "  inflating: /faces-dataset/s12/1.pgm  \n",
            "  inflating: /faces-dataset/s12/10.pgm  \n",
            "  inflating: /faces-dataset/s12/2.pgm  \n",
            "  inflating: /faces-dataset/s12/3.pgm  \n",
            "  inflating: /faces-dataset/s12/4.pgm  \n",
            "  inflating: /faces-dataset/s12/5.pgm  \n",
            "  inflating: /faces-dataset/s12/6.pgm  \n",
            "  inflating: /faces-dataset/s12/7.pgm  \n",
            "  inflating: /faces-dataset/s12/8.pgm  \n",
            "  inflating: /faces-dataset/s12/9.pgm  \n",
            "  inflating: /faces-dataset/s13/1.pgm  \n",
            "  inflating: /faces-dataset/s13/10.pgm  \n",
            "  inflating: /faces-dataset/s13/2.pgm  \n",
            "  inflating: /faces-dataset/s13/3.pgm  \n",
            "  inflating: /faces-dataset/s13/4.pgm  \n",
            "  inflating: /faces-dataset/s13/5.pgm  \n",
            "  inflating: /faces-dataset/s13/6.pgm  \n",
            "  inflating: /faces-dataset/s13/7.pgm  \n",
            "  inflating: /faces-dataset/s13/8.pgm  \n",
            "  inflating: /faces-dataset/s13/9.pgm  \n",
            "  inflating: /faces-dataset/s14/1.pgm  \n",
            "  inflating: /faces-dataset/s14/10.pgm  \n",
            "  inflating: /faces-dataset/s14/2.pgm  \n",
            "  inflating: /faces-dataset/s14/3.pgm  \n",
            "  inflating: /faces-dataset/s14/4.pgm  \n",
            "  inflating: /faces-dataset/s14/5.pgm  \n",
            "  inflating: /faces-dataset/s14/6.pgm  \n",
            "  inflating: /faces-dataset/s14/7.pgm  \n",
            "  inflating: /faces-dataset/s14/8.pgm  \n",
            "  inflating: /faces-dataset/s14/9.pgm  \n",
            "  inflating: /faces-dataset/s15/1.pgm  \n",
            "  inflating: /faces-dataset/s15/10.pgm  \n",
            "  inflating: /faces-dataset/s15/2.pgm  \n",
            "  inflating: /faces-dataset/s15/3.pgm  \n",
            "  inflating: /faces-dataset/s15/4.pgm  \n",
            "  inflating: /faces-dataset/s15/5.pgm  \n",
            "  inflating: /faces-dataset/s15/6.pgm  \n",
            "  inflating: /faces-dataset/s15/7.pgm  \n",
            "  inflating: /faces-dataset/s15/8.pgm  \n",
            "  inflating: /faces-dataset/s15/9.pgm  \n",
            "  inflating: /faces-dataset/s16/1.pgm  \n",
            "  inflating: /faces-dataset/s16/10.pgm  \n",
            "  inflating: /faces-dataset/s16/2.pgm  \n",
            "  inflating: /faces-dataset/s16/3.pgm  \n",
            "  inflating: /faces-dataset/s16/4.pgm  \n",
            "  inflating: /faces-dataset/s16/5.pgm  \n",
            "  inflating: /faces-dataset/s16/6.pgm  \n",
            "  inflating: /faces-dataset/s16/7.pgm  \n",
            "  inflating: /faces-dataset/s16/8.pgm  \n",
            "  inflating: /faces-dataset/s16/9.pgm  \n",
            "  inflating: /faces-dataset/s17/1.pgm  \n",
            "  inflating: /faces-dataset/s17/10.pgm  \n",
            "  inflating: /faces-dataset/s17/2.pgm  \n",
            "  inflating: /faces-dataset/s17/3.pgm  \n",
            "  inflating: /faces-dataset/s17/4.pgm  \n",
            "  inflating: /faces-dataset/s17/5.pgm  \n",
            "  inflating: /faces-dataset/s17/6.pgm  \n",
            "  inflating: /faces-dataset/s17/7.pgm  \n",
            "  inflating: /faces-dataset/s17/8.pgm  \n",
            "  inflating: /faces-dataset/s17/9.pgm  \n",
            "  inflating: /faces-dataset/s18/1.pgm  \n",
            "  inflating: /faces-dataset/s18/10.pgm  \n",
            "  inflating: /faces-dataset/s18/2.pgm  \n",
            "  inflating: /faces-dataset/s18/3.pgm  \n",
            "  inflating: /faces-dataset/s18/4.pgm  \n",
            "  inflating: /faces-dataset/s18/5.pgm  \n",
            "  inflating: /faces-dataset/s18/6.pgm  \n",
            "  inflating: /faces-dataset/s18/7.pgm  \n",
            "  inflating: /faces-dataset/s18/8.pgm  \n",
            "  inflating: /faces-dataset/s18/9.pgm  \n",
            "  inflating: /faces-dataset/s19/1.pgm  \n",
            "  inflating: /faces-dataset/s19/10.pgm  \n",
            "  inflating: /faces-dataset/s19/2.pgm  \n",
            "  inflating: /faces-dataset/s19/3.pgm  \n",
            "  inflating: /faces-dataset/s19/4.pgm  \n",
            "  inflating: /faces-dataset/s19/5.pgm  \n",
            "  inflating: /faces-dataset/s19/6.pgm  \n",
            "  inflating: /faces-dataset/s19/7.pgm  \n",
            "  inflating: /faces-dataset/s19/8.pgm  \n",
            "  inflating: /faces-dataset/s19/9.pgm  \n",
            "  inflating: /faces-dataset/s2/1.pgm  \n",
            "  inflating: /faces-dataset/s2/10.pgm  \n",
            "  inflating: /faces-dataset/s2/2.pgm  \n",
            "  inflating: /faces-dataset/s2/3.pgm  \n",
            "  inflating: /faces-dataset/s2/4.pgm  \n",
            "  inflating: /faces-dataset/s2/5.pgm  \n",
            "  inflating: /faces-dataset/s2/6.pgm  \n",
            "  inflating: /faces-dataset/s2/7.pgm  \n",
            "  inflating: /faces-dataset/s2/8.pgm  \n",
            "  inflating: /faces-dataset/s2/9.pgm  \n",
            "  inflating: /faces-dataset/s20/1.pgm  \n",
            "  inflating: /faces-dataset/s20/10.pgm  \n",
            "  inflating: /faces-dataset/s20/2.pgm  \n",
            "  inflating: /faces-dataset/s20/3.pgm  \n",
            "  inflating: /faces-dataset/s20/4.pgm  \n",
            "  inflating: /faces-dataset/s20/5.pgm  \n",
            "  inflating: /faces-dataset/s20/6.pgm  \n",
            "  inflating: /faces-dataset/s20/7.pgm  \n",
            "  inflating: /faces-dataset/s20/8.pgm  \n",
            "  inflating: /faces-dataset/s20/9.pgm  \n",
            "  inflating: /faces-dataset/s21/1.pgm  \n",
            "  inflating: /faces-dataset/s21/10.pgm  \n",
            "  inflating: /faces-dataset/s21/2.pgm  \n",
            "  inflating: /faces-dataset/s21/3.pgm  \n",
            "  inflating: /faces-dataset/s21/4.pgm  \n",
            "  inflating: /faces-dataset/s21/5.pgm  \n",
            "  inflating: /faces-dataset/s21/6.pgm  \n",
            "  inflating: /faces-dataset/s21/7.pgm  \n",
            "  inflating: /faces-dataset/s21/8.pgm  \n",
            "  inflating: /faces-dataset/s21/9.pgm  \n",
            "  inflating: /faces-dataset/s22/1.pgm  \n",
            "  inflating: /faces-dataset/s22/10.pgm  \n",
            "  inflating: /faces-dataset/s22/2.pgm  \n",
            "  inflating: /faces-dataset/s22/3.pgm  \n",
            "  inflating: /faces-dataset/s22/4.pgm  \n",
            "  inflating: /faces-dataset/s22/5.pgm  \n",
            "  inflating: /faces-dataset/s22/6.pgm  \n",
            "  inflating: /faces-dataset/s22/7.pgm  \n",
            "  inflating: /faces-dataset/s22/8.pgm  \n",
            "  inflating: /faces-dataset/s22/9.pgm  \n",
            "  inflating: /faces-dataset/s23/1.pgm  \n",
            "  inflating: /faces-dataset/s23/10.pgm  \n",
            "  inflating: /faces-dataset/s23/2.pgm  \n",
            "  inflating: /faces-dataset/s23/3.pgm  \n",
            "  inflating: /faces-dataset/s23/4.pgm  \n",
            "  inflating: /faces-dataset/s23/5.pgm  \n",
            "  inflating: /faces-dataset/s23/6.pgm  \n",
            "  inflating: /faces-dataset/s23/7.pgm  \n",
            "  inflating: /faces-dataset/s23/8.pgm  \n",
            "  inflating: /faces-dataset/s23/9.pgm  \n",
            "  inflating: /faces-dataset/s24/1.pgm  \n",
            "  inflating: /faces-dataset/s24/10.pgm  \n",
            "  inflating: /faces-dataset/s24/2.pgm  \n",
            "  inflating: /faces-dataset/s24/3.pgm  \n",
            "  inflating: /faces-dataset/s24/4.pgm  \n",
            "  inflating: /faces-dataset/s24/5.pgm  \n",
            "  inflating: /faces-dataset/s24/6.pgm  \n",
            "  inflating: /faces-dataset/s24/7.pgm  \n",
            "  inflating: /faces-dataset/s24/8.pgm  \n",
            "  inflating: /faces-dataset/s24/9.pgm  \n",
            "  inflating: /faces-dataset/s25/1.pgm  \n",
            "  inflating: /faces-dataset/s25/10.pgm  \n",
            "  inflating: /faces-dataset/s25/2.pgm  \n",
            "  inflating: /faces-dataset/s25/3.pgm  \n",
            "  inflating: /faces-dataset/s25/4.pgm  \n",
            "  inflating: /faces-dataset/s25/5.pgm  \n",
            "  inflating: /faces-dataset/s25/6.pgm  \n",
            "  inflating: /faces-dataset/s25/7.pgm  \n",
            "  inflating: /faces-dataset/s25/8.pgm  \n",
            "  inflating: /faces-dataset/s25/9.pgm  \n",
            "  inflating: /faces-dataset/s26/1.pgm  \n",
            "  inflating: /faces-dataset/s26/10.pgm  \n",
            "  inflating: /faces-dataset/s26/2.pgm  \n",
            "  inflating: /faces-dataset/s26/3.pgm  \n",
            "  inflating: /faces-dataset/s26/4.pgm  \n",
            "  inflating: /faces-dataset/s26/5.pgm  \n",
            "  inflating: /faces-dataset/s26/6.pgm  \n",
            "  inflating: /faces-dataset/s26/7.pgm  \n",
            "  inflating: /faces-dataset/s26/8.pgm  \n",
            "  inflating: /faces-dataset/s26/9.pgm  \n",
            "  inflating: /faces-dataset/s27/1.pgm  \n",
            "  inflating: /faces-dataset/s27/10.pgm  \n",
            "  inflating: /faces-dataset/s27/2.pgm  \n",
            "  inflating: /faces-dataset/s27/3.pgm  \n",
            "  inflating: /faces-dataset/s27/4.pgm  \n",
            "  inflating: /faces-dataset/s27/5.pgm  \n",
            "  inflating: /faces-dataset/s27/6.pgm  \n",
            "  inflating: /faces-dataset/s27/7.pgm  \n",
            "  inflating: /faces-dataset/s27/8.pgm  \n",
            "  inflating: /faces-dataset/s27/9.pgm  \n",
            "  inflating: /faces-dataset/s28/1.pgm  \n",
            "  inflating: /faces-dataset/s28/10.pgm  \n",
            "  inflating: /faces-dataset/s28/2.pgm  \n",
            "  inflating: /faces-dataset/s28/3.pgm  \n",
            "  inflating: /faces-dataset/s28/4.pgm  \n",
            "  inflating: /faces-dataset/s28/5.pgm  \n",
            "  inflating: /faces-dataset/s28/6.pgm  \n",
            "  inflating: /faces-dataset/s28/7.pgm  \n",
            "  inflating: /faces-dataset/s28/8.pgm  \n",
            "  inflating: /faces-dataset/s28/9.pgm  \n",
            "  inflating: /faces-dataset/s29/1.pgm  \n",
            "  inflating: /faces-dataset/s29/10.pgm  \n",
            "  inflating: /faces-dataset/s29/2.pgm  \n",
            "  inflating: /faces-dataset/s29/3.pgm  \n",
            "  inflating: /faces-dataset/s29/4.pgm  \n",
            "  inflating: /faces-dataset/s29/5.pgm  \n",
            "  inflating: /faces-dataset/s29/6.pgm  \n",
            "  inflating: /faces-dataset/s29/7.pgm  \n",
            "  inflating: /faces-dataset/s29/8.pgm  \n",
            "  inflating: /faces-dataset/s29/9.pgm  \n",
            "  inflating: /faces-dataset/s3/1.pgm  \n",
            "  inflating: /faces-dataset/s3/10.pgm  \n",
            "  inflating: /faces-dataset/s3/2.pgm  \n",
            "  inflating: /faces-dataset/s3/3.pgm  \n",
            "  inflating: /faces-dataset/s3/4.pgm  \n",
            "  inflating: /faces-dataset/s3/5.pgm  \n",
            "  inflating: /faces-dataset/s3/6.pgm  \n",
            "  inflating: /faces-dataset/s3/7.pgm  \n",
            "  inflating: /faces-dataset/s3/8.pgm  \n",
            "  inflating: /faces-dataset/s3/9.pgm  \n",
            "  inflating: /faces-dataset/s30/1.pgm  \n",
            "  inflating: /faces-dataset/s30/10.pgm  \n",
            "  inflating: /faces-dataset/s30/2.pgm  \n",
            "  inflating: /faces-dataset/s30/3.pgm  \n",
            "  inflating: /faces-dataset/s30/4.pgm  \n",
            "  inflating: /faces-dataset/s30/5.pgm  \n",
            "  inflating: /faces-dataset/s30/6.pgm  \n",
            "  inflating: /faces-dataset/s30/7.pgm  \n",
            "  inflating: /faces-dataset/s30/8.pgm  \n",
            "  inflating: /faces-dataset/s30/9.pgm  \n",
            "  inflating: /faces-dataset/s31/1.pgm  \n",
            "  inflating: /faces-dataset/s31/10.pgm  \n",
            "  inflating: /faces-dataset/s31/2.pgm  \n",
            "  inflating: /faces-dataset/s31/3.pgm  \n",
            "  inflating: /faces-dataset/s31/4.pgm  \n",
            "  inflating: /faces-dataset/s31/5.pgm  \n",
            "  inflating: /faces-dataset/s31/6.pgm  \n",
            "  inflating: /faces-dataset/s31/7.pgm  \n",
            "  inflating: /faces-dataset/s31/8.pgm  \n",
            "  inflating: /faces-dataset/s31/9.pgm  \n",
            "  inflating: /faces-dataset/s32/1.pgm  \n",
            "  inflating: /faces-dataset/s32/10.pgm  \n",
            "  inflating: /faces-dataset/s32/2.pgm  \n",
            "  inflating: /faces-dataset/s32/3.pgm  \n",
            "  inflating: /faces-dataset/s32/4.pgm  \n",
            "  inflating: /faces-dataset/s32/5.pgm  \n",
            "  inflating: /faces-dataset/s32/6.pgm  \n",
            "  inflating: /faces-dataset/s32/7.pgm  \n",
            "  inflating: /faces-dataset/s32/8.pgm  \n",
            "  inflating: /faces-dataset/s32/9.pgm  \n",
            "  inflating: /faces-dataset/s33/1.pgm  \n",
            "  inflating: /faces-dataset/s33/10.pgm  \n",
            "  inflating: /faces-dataset/s33/2.pgm  \n",
            "  inflating: /faces-dataset/s33/3.pgm  \n",
            "  inflating: /faces-dataset/s33/4.pgm  \n",
            "  inflating: /faces-dataset/s33/5.pgm  \n",
            "  inflating: /faces-dataset/s33/6.pgm  \n",
            "  inflating: /faces-dataset/s33/7.pgm  \n",
            "  inflating: /faces-dataset/s33/8.pgm  \n",
            "  inflating: /faces-dataset/s33/9.pgm  \n",
            "  inflating: /faces-dataset/s34/1.pgm  \n",
            "  inflating: /faces-dataset/s34/10.pgm  \n",
            "  inflating: /faces-dataset/s34/2.pgm  \n",
            "  inflating: /faces-dataset/s34/3.pgm  \n",
            "  inflating: /faces-dataset/s34/4.pgm  \n",
            "  inflating: /faces-dataset/s34/5.pgm  \n",
            "  inflating: /faces-dataset/s34/6.pgm  \n",
            "  inflating: /faces-dataset/s34/7.pgm  \n",
            "  inflating: /faces-dataset/s34/8.pgm  \n",
            "  inflating: /faces-dataset/s34/9.pgm  \n",
            "  inflating: /faces-dataset/s35/1.pgm  \n",
            "  inflating: /faces-dataset/s35/10.pgm  \n",
            "  inflating: /faces-dataset/s35/2.pgm  \n",
            "  inflating: /faces-dataset/s35/3.pgm  \n",
            "  inflating: /faces-dataset/s35/4.pgm  \n",
            "  inflating: /faces-dataset/s35/5.pgm  \n",
            "  inflating: /faces-dataset/s35/6.pgm  \n",
            "  inflating: /faces-dataset/s35/7.pgm  \n",
            "  inflating: /faces-dataset/s35/8.pgm  \n",
            "  inflating: /faces-dataset/s35/9.pgm  \n",
            "  inflating: /faces-dataset/s36/1.pgm  \n",
            "  inflating: /faces-dataset/s36/10.pgm  \n",
            "  inflating: /faces-dataset/s36/2.pgm  \n",
            "  inflating: /faces-dataset/s36/3.pgm  \n",
            "  inflating: /faces-dataset/s36/4.pgm  \n",
            "  inflating: /faces-dataset/s36/5.pgm  \n",
            "  inflating: /faces-dataset/s36/6.pgm  \n",
            "  inflating: /faces-dataset/s36/7.pgm  \n",
            "  inflating: /faces-dataset/s36/8.pgm  \n",
            "  inflating: /faces-dataset/s36/9.pgm  \n",
            "  inflating: /faces-dataset/s37/1.pgm  \n",
            "  inflating: /faces-dataset/s37/10.pgm  \n",
            "  inflating: /faces-dataset/s37/2.pgm  \n",
            "  inflating: /faces-dataset/s37/3.pgm  \n",
            "  inflating: /faces-dataset/s37/4.pgm  \n",
            "  inflating: /faces-dataset/s37/5.pgm  \n",
            "  inflating: /faces-dataset/s37/6.pgm  \n",
            "  inflating: /faces-dataset/s37/7.pgm  \n",
            "  inflating: /faces-dataset/s37/8.pgm  \n",
            "  inflating: /faces-dataset/s37/9.pgm  \n",
            "  inflating: /faces-dataset/s38/1.pgm  \n",
            "  inflating: /faces-dataset/s38/10.pgm  \n",
            "  inflating: /faces-dataset/s38/2.pgm  \n",
            "  inflating: /faces-dataset/s38/3.pgm  \n",
            "  inflating: /faces-dataset/s38/4.pgm  \n",
            "  inflating: /faces-dataset/s38/5.pgm  \n",
            "  inflating: /faces-dataset/s38/6.pgm  \n",
            "  inflating: /faces-dataset/s38/7.pgm  \n",
            "  inflating: /faces-dataset/s38/8.pgm  \n",
            "  inflating: /faces-dataset/s38/9.pgm  \n",
            "  inflating: /faces-dataset/s39/1.pgm  \n",
            "  inflating: /faces-dataset/s39/10.pgm  \n",
            "  inflating: /faces-dataset/s39/2.pgm  \n",
            "  inflating: /faces-dataset/s39/3.pgm  \n",
            "  inflating: /faces-dataset/s39/4.pgm  \n",
            "  inflating: /faces-dataset/s39/5.pgm  \n",
            "  inflating: /faces-dataset/s39/6.pgm  \n",
            "  inflating: /faces-dataset/s39/7.pgm  \n",
            "  inflating: /faces-dataset/s39/8.pgm  \n",
            "  inflating: /faces-dataset/s39/9.pgm  \n",
            "  inflating: /faces-dataset/s4/1.pgm  \n",
            "  inflating: /faces-dataset/s4/10.pgm  \n",
            "  inflating: /faces-dataset/s4/2.pgm  \n",
            "  inflating: /faces-dataset/s4/3.pgm  \n",
            "  inflating: /faces-dataset/s4/4.pgm  \n",
            "  inflating: /faces-dataset/s4/5.pgm  \n",
            "  inflating: /faces-dataset/s4/6.pgm  \n",
            "  inflating: /faces-dataset/s4/7.pgm  \n",
            "  inflating: /faces-dataset/s4/8.pgm  \n",
            "  inflating: /faces-dataset/s4/9.pgm  \n",
            "  inflating: /faces-dataset/s40/1.pgm  \n",
            "  inflating: /faces-dataset/s40/10.pgm  \n",
            "  inflating: /faces-dataset/s40/2.pgm  \n",
            "  inflating: /faces-dataset/s40/3.pgm  \n",
            "  inflating: /faces-dataset/s40/4.pgm  \n",
            "  inflating: /faces-dataset/s40/5.pgm  \n",
            "  inflating: /faces-dataset/s40/6.pgm  \n",
            "  inflating: /faces-dataset/s40/7.pgm  \n",
            "  inflating: /faces-dataset/s40/8.pgm  \n",
            "  inflating: /faces-dataset/s40/9.pgm  \n",
            "  inflating: /faces-dataset/s5/1.pgm  \n",
            "  inflating: /faces-dataset/s5/10.pgm  \n",
            "  inflating: /faces-dataset/s5/2.pgm  \n",
            "  inflating: /faces-dataset/s5/3.pgm  \n",
            "  inflating: /faces-dataset/s5/4.pgm  \n",
            "  inflating: /faces-dataset/s5/5.pgm  \n",
            "  inflating: /faces-dataset/s5/6.pgm  \n",
            "  inflating: /faces-dataset/s5/7.pgm  \n",
            "  inflating: /faces-dataset/s5/8.pgm  \n",
            "  inflating: /faces-dataset/s5/9.pgm  \n",
            "  inflating: /faces-dataset/s6/1.pgm  \n",
            "  inflating: /faces-dataset/s6/10.pgm  \n",
            "  inflating: /faces-dataset/s6/2.pgm  \n",
            "  inflating: /faces-dataset/s6/3.pgm  \n",
            "  inflating: /faces-dataset/s6/4.pgm  \n",
            "  inflating: /faces-dataset/s6/5.pgm  \n",
            "  inflating: /faces-dataset/s6/6.pgm  \n",
            "  inflating: /faces-dataset/s6/7.pgm  \n",
            "  inflating: /faces-dataset/s6/8.pgm  \n",
            "  inflating: /faces-dataset/s6/9.pgm  \n",
            "  inflating: /faces-dataset/s7/1.pgm  \n",
            "  inflating: /faces-dataset/s7/10.pgm  \n",
            "  inflating: /faces-dataset/s7/2.pgm  \n",
            "  inflating: /faces-dataset/s7/3.pgm  \n",
            "  inflating: /faces-dataset/s7/4.pgm  \n",
            "  inflating: /faces-dataset/s7/5.pgm  \n",
            "  inflating: /faces-dataset/s7/6.pgm  \n",
            "  inflating: /faces-dataset/s7/7.pgm  \n",
            "  inflating: /faces-dataset/s7/8.pgm  \n",
            "  inflating: /faces-dataset/s7/9.pgm  \n",
            "  inflating: /faces-dataset/s8/1.pgm  \n",
            "  inflating: /faces-dataset/s8/10.pgm  \n",
            "  inflating: /faces-dataset/s8/2.pgm  \n",
            "  inflating: /faces-dataset/s8/3.pgm  \n",
            "  inflating: /faces-dataset/s8/4.pgm  \n",
            "  inflating: /faces-dataset/s8/5.pgm  \n",
            "  inflating: /faces-dataset/s8/6.pgm  \n",
            "  inflating: /faces-dataset/s8/7.pgm  \n",
            "  inflating: /faces-dataset/s8/8.pgm  \n",
            "  inflating: /faces-dataset/s8/9.pgm  \n",
            "  inflating: /faces-dataset/s9/1.pgm  \n",
            "  inflating: /faces-dataset/s9/10.pgm  \n",
            "  inflating: /faces-dataset/s9/2.pgm  \n",
            "  inflating: /faces-dataset/s9/3.pgm  \n",
            "  inflating: /faces-dataset/s9/4.pgm  \n",
            "  inflating: /faces-dataset/s9/5.pgm  \n",
            "  inflating: /faces-dataset/s9/6.pgm  \n",
            "  inflating: /faces-dataset/s9/7.pgm  \n",
            "  inflating: /faces-dataset/s9/8.pgm  \n",
            "  inflating: /faces-dataset/s9/9.pgm  \n"
          ]
        }
      ],
      "source": [
        "!gdown  https://drive.google.com/uc?id=1jpCPSCpBMZyYXj_YrqHNVZDr0Tlx3jdq && unzip archive.zip -d /faces-dataset"
      ]
    },
    {
      "cell_type": "markdown",
      "metadata": {
        "id": "XRoVToHd0Z-C"
      },
      "source": [
        "Downloading fruits-dataset for \"faces vs non-faces part\" from Google Drive and extracting them into root directory of Colab noteboo"
      ]
    },
    {
      "cell_type": "code",
      "execution_count": null,
      "metadata": {
        "colab": {
          "base_uri": "https://localhost:8080/"
        },
        "id": "AWh3Uq5GRp7K",
        "outputId": "2cc07031-d62a-4c60-d6fd-f4969c26adf2"
      },
      "outputs": [
        {
          "name": "stdout",
          "output_type": "stream",
          "text": [
            "Downloading...\n",
            "From: https://drive.google.com/uc?id=139V9a9wSMW3fnrRpVtWDaGZmmeBfoFqC\n",
            "To: /content/archive2.zip\n",
            "\r  0% 0.00/15.7M [00:00<?, ?B/s]\r 30% 4.72M/15.7M [00:00<00:00, 42.0MB/s]\r100% 15.7M/15.7M [00:00<00:00, 102MB/s] \n",
            "Archive:  archive2.zip\n",
            "replace /non-faces-dataset/1/0.jpg? [y]es, [n]o, [A]ll, [N]one, [r]ename: N\n"
          ]
        }
      ],
      "source": [
        "!gdown  https://drive.google.com/uc?id=139V9a9wSMW3fnrRpVtWDaGZmmeBfoFqC && unzip archive2.zip -d /non-faces-dataset"
      ]
    },
    {
      "cell_type": "markdown",
      "metadata": {
        "id": "WcfiXFACLdlC"
      },
      "source": [
        "## 2.Generating the Data Matrix and the Label vector"
      ]
    },
    {
      "cell_type": "markdown",
      "metadata": {
        "id": "dB8atvvt0lok"
      },
      "source": [
        "* Listing all directories that contain the faces of each person in the \"faces-dataset\".\n",
        "* Reading grayscale images of faces from each directory using the cv2.imread function from the cv2 library.\n",
        "* Converting each image into a row vector of 10304 features.\n",
        "* Adding each row vector to the data matrix.\n",
        "* Assigning a label to each row vector and adding it to the label vector\n",
        "\n",
        "\n",
        "\n"
      ]
    },
    {
      "cell_type": "code",
      "execution_count": null,
      "metadata": {
        "id": "oClqOcelLn3q"
      },
      "outputs": [],
      "source": [
        "def generate_data_and_label(dataset_dir):\n",
        "  '''\n",
        "  Generates the data matrix and the label vector from the given dataset\n",
        "  directory.\n",
        "\n",
        "  Args:\n",
        "    dataset_dir (str): the directory of the datasest (must have a folder\n",
        "    containing images for each subject).\n",
        "\n",
        "  Returns:\n",
        "    Tuple of numpy array representing the data matrix and label vector.\n",
        "\n",
        "  '''\n",
        "  current_dir = ''\n",
        "\n",
        "  data_matrix = []\n",
        "  label_vector = []\n",
        "\n",
        "  # removes the first character of the string and converts the rest to integer\n",
        "  # if it's not a number returns infinity\n",
        "  get_subject_number = lambda x: int(x[1:]) if x[1:].isdigit() else float('inf')\n",
        "\n",
        "  # finds the first number in the string\n",
        "  get_image_number = lambda x: int(re.findall('\\d+', x)[0])\n",
        "\n",
        "  for dir in sorted(os.listdir(dataset_dir), key = get_subject_number):\n",
        "    current_dir = os.path.join(dataset_dir, dir)\n",
        "    if os.path.isfile(current_dir):\n",
        "      continue\n",
        "    current_subject = get_subject_number(dir)\n",
        "    for img in sorted(os.listdir(current_dir), key = get_image_number):\n",
        "      image_path = os.path.join(current_dir, img)\n",
        "      image = cv2.imread(image_path, cv2.IMREAD_GRAYSCALE)\n",
        "      data_matrix.append(np.array(image).flatten())\n",
        "      label_vector.append(current_subject)\n",
        "\n",
        "  # converting lists to numpy array\n",
        "  data_matrix = np.array(data_matrix)\n",
        "  label_vector = np.array(label_vector)\n",
        "\n",
        "  return data_matrix, label_vector"
      ]
    },
    {
      "cell_type": "code",
      "execution_count": null,
      "metadata": {
        "id": "f8qh0kzxbvTC"
      },
      "outputs": [],
      "source": [
        "data_matrix, label_vector = generate_data_and_label('/faces-dataset')"
      ]
    },
    {
      "cell_type": "markdown",
      "metadata": {
        "id": "m1G2tmGe3IME"
      },
      "source": [
        "\n",
        "\n",
        "*   Same process as before for the fruits dataset\n",
        "*   We read faces dataset and assign them to label 1 and\n",
        "* We read the fuits dataset in a grayscale format and resize the images to be 92 * 112 using cv2.INTER_AREA interpolation method\n",
        "* Each fruit sample is assigned to label 2\n",
        "* We use data_size to select how many samples we are going to use from the fruits dataset\n",
        "\n"
      ]
    },
    {
      "cell_type": "code",
      "execution_count": null,
      "metadata": {
        "id": "HGtor1Peffvk"
      },
      "outputs": [],
      "source": [
        "def generate_data_and_label_face_non_face(face_dataset_dir, non_face_dataset_dir, data_size):\n",
        "\n",
        "  current_dir = ''\n",
        "\n",
        "  data_matrix = []\n",
        "  label_vector = []\n",
        "\n",
        "  faces_paths = []\n",
        "  non_faces_paths = []\n",
        "\n",
        "  get_subject_number = lambda x: int(x[1:]) if x[1:].isdigit() else float('inf')\n",
        "\n",
        "  get_image_number = lambda x: int(re.findall('\\d+', x)[0])\n",
        "\n",
        "  for dir in sorted(os.listdir(face_dataset_dir), key = get_subject_number):\n",
        "    current_dir = os.path.join(face_dataset_dir, dir)\n",
        "    if os.path.isfile(current_dir):\n",
        "      continue\n",
        "    for img in sorted(os.listdir(current_dir), key = get_image_number):\n",
        "      image_path = os.path.join(current_dir, img)\n",
        "      faces_paths.append(image_path)\n",
        "      image = cv2.imread(image_path, cv2.IMREAD_GRAYSCALE)\n",
        "      data_matrix.append(np.array(image).flatten())\n",
        "      label_vector.append(1)\n",
        "\n",
        "  for dir in sorted(os.listdir(non_face_dataset_dir), key = get_image_number):\n",
        "    current_dir = os.path.join(non_face_dataset_dir, dir)\n",
        "    if os.path.isfile(current_dir):\n",
        "      continue\n",
        "    i=0\n",
        "    for img in sorted(os.listdir(current_dir), key = get_image_number):\n",
        "      image_path = os.path.join(current_dir, img)\n",
        "      non_faces_paths.append(image_path)\n",
        "      image = cv2.imread(image_path, cv2.IMREAD_GRAYSCALE)\n",
        "      resized_image = cv2.resize(image, (92, 112), interpolation = cv2.INTER_AREA)\n",
        "      data_matrix.append(np.array(resized_image).flatten())\n",
        "      label_vector.append(2)\n",
        "      i += 1\n",
        "      if i == data_size//5 :\n",
        "        break\n",
        "\n",
        "  # converting lists to numpy array\n",
        "  data_matrix = np.array(data_matrix)\n",
        "  label_vector = np.array(label_vector)\n",
        "\n",
        "  return data_matrix, label_vector, faces_paths, non_faces_paths"
      ]
    },
    {
      "cell_type": "code",
      "execution_count": null,
      "metadata": {
        "id": "7uejP4jRex3V"
      },
      "outputs": [],
      "source": [
        "face_non_face_dataset, face_non_face_label_vector, faces_test_indecies, fruits_test_indecies = generate_data_and_label_face_non_face('/faces-dataset', '/non-faces-dataset', 400)"
      ]
    },
    {
      "cell_type": "markdown",
      "metadata": {
        "id": "TCDCqIMXdwIY"
      },
      "source": [
        "## 3.Spliting the Dataset into Training and Test sets"
      ]
    },
    {
      "cell_type": "markdown",
      "metadata": {
        "id": "sWApgYxu5XVl"
      },
      "source": [
        "\n",
        "\n",
        "*   In this part we split the faces data matrix where odd samples are used for training and odd samples are used for testing\n",
        "* We split the label vector accordingly\n",
        "\n"
      ]
    },
    {
      "cell_type": "code",
      "execution_count": null,
      "metadata": {
        "id": "ItZAWu1Dd-ba"
      },
      "outputs": [],
      "source": [
        "def split_dataset(data_matrix, label_vector, mask):\n",
        "\n",
        "  training_data_matrix = data_matrix[mask]\n",
        "  training_label_vector = label_vector[mask]\n",
        "\n",
        "  testing_data_matrix = data_matrix[~mask]\n",
        "  testing_label_vector = label_vector[~mask]\n",
        "\n",
        "  return training_data_matrix, training_label_vector, \\\n",
        "   testing_data_matrix, testing_label_vector"
      ]
    },
    {
      "cell_type": "code",
      "execution_count": null,
      "metadata": {
        "id": "5WvLfkrRhuqy"
      },
      "outputs": [],
      "source": [
        "training_data, training_labels, testing_data, testing_labels = split_dataset(data_matrix, label_vector,\n",
        "                                                                             np.arange(data_matrix.shape[0]) % 2 == 1)"
      ]
    },
    {
      "cell_type": "markdown",
      "metadata": {
        "id": "1Myw01dWjK1l"
      },
      "source": [
        "## 4.Classification using PCA\n"
      ]
    },
    {
      "cell_type": "markdown",
      "metadata": {
        "id": "WSEOWw7l6Iq7"
      },
      "source": [
        "\n",
        "\n",
        "*   This class for PCA is used to apply the PCA algorithm and compute the projection matrix for the given training data.\n",
        "\n",
        "\n",
        "**Attributes:**\n",
        "\n",
        "\n",
        "*   eigen_vectors:     Ordered directions based on their explained variance and the top k of them are selected for dimensionality reduction\n",
        "*   cumulative_sum:    array used to store the cumulative sum of the sorted eigen values and used to select the top components required for given alpha\n",
        "\n",
        "\n",
        "**Methods:**\n",
        "\n",
        "\n",
        "*   fit(data_matrix): takes the training data as input and used to generate the projection matrix by computing the covariance matrix and computing its eigen values and eigen vectors\n",
        "*   project_data(data_matix, alpha): used to project the given data by selecting the top eigen vectors that store the maxmimum variation for a given alpha and return the projected data\n",
        "\n",
        "\n",
        "\n"
      ]
    },
    {
      "cell_type": "code",
      "execution_count": null,
      "metadata": {
        "id": "0WmZcH8Dwe9O"
      },
      "outputs": [],
      "source": [
        "class PCA:\n",
        "  def __init__(self):\n",
        "    self.eigen_vectors = None\n",
        "    self.cumulative_sum = None\n",
        "\n",
        "  def fit(self, data_matrix):\n",
        "    # centering the data\n",
        "    mean_vector = np.mean(data_matrix, axis=0)\n",
        "    centered_matrix = data_matrix - mean_vector\n",
        "\n",
        "    # computing the covariance matrix\n",
        "    covariance_matrix = np.cov(centered_matrix, rowvar=False, bias=True)\n",
        "\n",
        "    # computing eigen values and eigen vectors\n",
        "    eigen_values, self.eigen_vectors = np.linalg.eigh(covariance_matrix)\n",
        "\n",
        "    # reversing the order of eigen values and eigen vectors\n",
        "    eigen_values = eigen_values[::-1]\n",
        "    self.eigen_vectors = self.eigen_vectors[:, ::-1]\n",
        "\n",
        "    # computing the cumulative sum of eigen values\n",
        "    self.cumulative_sum = np.cumsum(eigen_values)\n",
        "\n",
        "  def project_data(self, data_matrix, alpha):\n",
        "    if self.eigen_vectors is None:\n",
        "      raise ValueError(\"PCA object needs to be fitted first!\")\n",
        "\n",
        "    threshold = alpha * self.cumulative_sum[-1]\n",
        "    idx = np.argmax(self.cumulative_sum >= threshold)\n",
        "    return np.dot(data_matrix, self.eigen_vectors[:, :idx+1])"
      ]
    },
    {
      "cell_type": "markdown",
      "metadata": {
        "id": "WcJK-oz0-99D"
      },
      "source": [
        "* This method used KNN to classify the given training data and labels and the given based on the given number of neighbours\n",
        "* Then it makes prediction for the given testing data and computes the accuracy\n",
        "* returns both the prediction and the accuracy\n",
        "\n"
      ]
    },
    {
      "cell_type": "code",
      "execution_count": null,
      "metadata": {
        "id": "h6ZurhNXjbUI"
      },
      "outputs": [],
      "source": [
        "def classifier(neighbours, training_data, training_labels, testing_data, testing_labels):\n",
        "\n",
        "  classifier = KNeighborsClassifier(neighbours)\n",
        "  classifier.fit(training_data, training_labels)\n",
        "\n",
        "  prediction = classifier.predict(testing_data)\n",
        "\n",
        "  accuracy = len(prediction[prediction == testing_labels]) / len(prediction)\n",
        "\n",
        "  return prediction, accuracy"
      ]
    },
    {
      "cell_type": "markdown",
      "metadata": {
        "id": "qlqnqLngA8iP"
      },
      "source": [
        "\n",
        "\n",
        "*   This method is used to compute the accuracy of PCA using the given training and testind data for different values of alphas\n",
        "*   Plot the relation between alpha and the accuracy of PCA\n",
        "\n",
        "\n",
        "\n"
      ]
    },
    {
      "cell_type": "code",
      "execution_count": null,
      "metadata": {
        "id": "3UCCBkQ28rD6"
      },
      "outputs": [],
      "source": [
        "def compute_accuracy_for_alphas(pca, training_data, training_labels, testing_data, testing_labels, alphas):\n",
        "  accuracies = []\n",
        "\n",
        "  for alpha in alphas:\n",
        "    projected_training_data = pca.project_data(training_data, alpha)\n",
        "    projected_testing_data = pca.project_data(testing_data, alpha)\n",
        "    _, accuracy = classifier(1, projected_training_data, training_labels,\n",
        "                              projected_testing_data, testing_labels)\n",
        "\n",
        "    accuracies.append(accuracy)\n",
        "\n",
        "  plt.plot(alphas, accuracies)\n",
        "  plt.xlabel('Alpha')\n",
        "  plt.ylabel('Accuracy')\n",
        "  plt.title('Relationship between Alpha and Accuracy')\n",
        "  plt.show()"
      ]
    },
    {
      "cell_type": "markdown",
      "metadata": {
        "id": "yznahHGaACQA"
      },
      "source": [
        "In this part, we run the PCA algorithm with the trainging data of faces and compute the accuracy for a given testing data while changing alpha\n",
        "\n",
        "We plot the relation between the accuracy and selected alpha"
      ]
    },
    {
      "cell_type": "code",
      "execution_count": null,
      "metadata": {
        "id": "siSFfHWiQwXF"
      },
      "outputs": [],
      "source": [
        "pca = PCA()\n",
        "pca.fit(training_data)"
      ]
    },
    {
      "cell_type": "code",
      "execution_count": null,
      "metadata": {
        "colab": {
          "base_uri": "https://localhost:8080/",
          "height": 295
        },
        "id": "1FfXAdtZBEVN",
        "outputId": "328d9b81-06d0-4802-9f4c-438ae01a17da"
      },
      "outputs": [
        {
          "data": {
            "image/png": "[encoded data removed]",
            "text/plain": [
              "<Figure size 432x288 with 1 Axes>"
            ]
          },
          "metadata": {},
          "output_type": "display_data"
        }
      ],
      "source": [
        "compute_accuracy_for_alphas(pca, training_data, training_labels, testing_data, testing_labels,\n",
        "                            [0.8, 0.85, 0.9, 0.95])"
      ]
    },
    {
      "cell_type": "markdown",
      "metadata": {
        "id": "Wr93oBkPbTH4"
      },
      "source": [
        "We can notice that when alpha increases the accuracy increases until certain threshold after that, it decreases because of the overfitting problem (since the variance is greater when we take more principal components of the training data therefore, the clustering is not often precise)"
      ]
    },
    {
      "cell_type": "markdown",
      "metadata": {
        "id": "pFHxO81PjRFF"
      },
      "source": [
        "## 5.Classification Using LDA"
      ]
    },
    {
      "cell_type": "markdown",
      "metadata": {
        "id": "7X3ISlxNB6BI"
      },
      "source": [
        "\n",
        "\n",
        "*   This class for LDA is used to apply the LDA algorithm and compute the projection matrix for the given training data.\n",
        "\n",
        "* It is generalized to compute projection that maximize the separation between 2 class or multiclasses where the algorithm changes based on the number of classes in the labels provided\n",
        "\n",
        "\n",
        "\n",
        "**Attributes:**\n",
        "\n",
        "* eigen_values: The ordered eigen values that represent the variation kept by each direction and used to sort their corresponding eigen vectors\n",
        "\n",
        "*   eigen_vectors:     Ordered directions based on their explained variance and the top k of them are selected\n",
        "\n",
        "* projection_matrix: used to project the given data in the directions that maximize the separation between classes and reduce the variance within each class\n",
        "\n",
        "\n",
        "**Methods:**\n",
        "\n",
        "\n",
        "*   fit(data_matrix, labels, components):\n",
        "\n",
        "takes the training data and training labels as inputs and used to generate the projection matrix.\n",
        "\n",
        "\n",
        "The algorithm for computing the projection matrix changes based on the number of classes in the given labels\n",
        "\n",
        "\n",
        " If the number of components is not given it will return the all eigen vectors\n",
        "\n",
        "\n",
        "*   project_data(data):\n",
        "\n",
        "\n",
        "used to project the given data by using the computed projection matrix\n",
        "\n",
        "\n",
        "\n"
      ]
    },
    {
      "cell_type": "code",
      "execution_count": null,
      "metadata": {
        "id": "CO8pdVT7_jse"
      },
      "outputs": [],
      "source": [
        "class LDA:\n",
        "\n",
        "  def __init__(self) -> None:\n",
        "    self.eigen_values =  None\n",
        "    self.eigen_vectors = None\n",
        "    self.projection_matrix = None\n",
        "    pass\n",
        "\n",
        "\n",
        "  def fit(self, data_matrix, labels, components=-1):\n",
        "\n",
        "    classes_number = len(np.unique(labels))\n",
        "\n",
        "    class_subsets = np.array([data_matrix[labels == i] for i in range(1, classes_number + 1)])\n",
        "\n",
        "    means = np.array([np.mean(class_subsets[i], axis=0) for i in range(len(class_subsets))])\n",
        "\n",
        "    sb = np.zeros((data_matrix.shape[1], data_matrix.shape[1]))\n",
        "\n",
        "    if classes_number > 2 :\n",
        "\n",
        "      overall_sample_mean = np.mean(means, axis=0)\n",
        "\n",
        "      centered_means = (means - overall_sample_mean).reshape(len(np.unique(labels)), 1, data_matrix.shape[1])\n",
        "\n",
        "      for x in range(len(centered_means)):\n",
        "\n",
        "        mult = np.dot(np.transpose(centered_means[x]), centered_means[x]) * len(class_subsets[x])\n",
        "        sb = np.sum([sb, mult], axis=0)\n",
        "\n",
        "    else:\n",
        "\n",
        "        sb = np.dot((means[0] - means[1]).reshape(-1, 1), (means[0] - means[1]).reshape(1, -1))\n",
        "\n",
        "    centered_classes = np.array([class_subsets[i] - means[i] for i in range(len(means))])\n",
        "\n",
        "    within_class_scatter = np.zeros((data_matrix.shape[1], data_matrix.shape[1]))\n",
        "\n",
        "    for x in range(len(centered_classes)):\n",
        "\n",
        "      mult = np.dot(np.transpose(centered_classes[x]), centered_classes[x])\n",
        "      within_class_scatter = np.sum([within_class_scatter, mult], axis=0)\n",
        "\n",
        "    self.eigen_values, self.eigen_vectors = linalg.eig(np.dot(linalg.pinv(within_class_scatter), sb))\n",
        "\n",
        "    self.eigen_values = np.real(self.eigen_values)\n",
        "    self.eigen_vectors = np.real(self.eigen_vectors)\n",
        "\n",
        "    idx = np.argsort(self.eigen_values)[::-1]\n",
        "    self.eigen_values = self.eigen_values[idx]\n",
        "    self.eigen_vectors = self.eigen_vectors[:, idx]\n",
        "\n",
        "    self.projection_matrix = self.eigen_vectors[:, :components] if components != -1 else self.eigen_vectors\n",
        "\n",
        "    return self.projection_matrix\n",
        "\n",
        "\n",
        "  def project_data(self, data):\n",
        "\n",
        "    projected_data = np.dot(data, self.projection_matrix )\n",
        "\n",
        "    return projected_data\n",
        "\n",
        "\n",
        "  def projection_matrix(self):\n",
        "    return self.projection_matrix"
      ]
    },
    {
      "cell_type": "markdown",
      "metadata": {
        "id": "e1uTE_IZMDIH"
      },
      "source": [
        "Reporting the accuracy for Multi-Classes LDA"
      ]
    },
    {
      "cell_type": "code",
      "execution_count": null,
      "metadata": {
        "colab": {
          "base_uri": "https://localhost:8080/"
        },
        "id": "0xn2qjRm76n9",
        "outputId": "d40966f1-d24c-4546-d90a-97b5b5cad416"
      },
      "outputs": [
        {
          "name": "stdout",
          "output_type": "stream",
          "text": [
            "Accuracy:\t (array([16,  1,  1,  1,  1,  2,  2,  2,  2,  2,  3,  3,  3,  3,  3,  4,  4,\n",
            "        4,  4,  4,  5,  5,  5,  5,  5,  6,  6,  6,  6,  6,  7,  7,  7,  7,\n",
            "        7,  8,  8,  8,  8,  8,  9,  9,  9,  9,  9, 10, 10, 10, 10, 10, 11,\n",
            "       11, 11, 11, 11, 12, 12, 12, 12, 12, 13, 13, 13, 13, 13, 14, 14, 14,\n",
            "       14, 14, 15, 15, 15, 15, 15, 16, 16, 16, 16, 16, 17, 17, 17, 17, 17,\n",
            "       18, 18, 18, 18, 18, 19, 19, 19, 19, 19, 20, 20, 20, 20, 20, 21, 21,\n",
            "       21, 21, 21, 22, 22, 22, 22, 22, 23, 23, 23, 23, 23, 24, 24, 24, 24,\n",
            "       24, 25, 25, 25, 25, 25, 26,  3, 26, 37, 26, 27, 27, 27, 27, 27, 28,\n",
            "       28, 28, 28, 28, 29, 29, 29, 29, 29, 30, 30, 30, 30, 30, 31, 31, 31,\n",
            "       21, 31, 32, 32, 32,  2, 32, 33, 33, 33, 33, 33, 34, 34, 34, 34, 34,\n",
            "       35, 35, 35, 35, 35, 36, 36,  7, 36, 36, 37, 37, 37, 37, 37, 38, 38,\n",
            "       38, 38, 23, 39, 39, 39, 39, 39, 40, 40, 40, 40,  5]), 0.96)\n"
          ]
        }
      ],
      "source": [
        "lda = LDA()\n",
        "lda.fit(training_data, training_labels, 39)\n",
        "print('Accuracy:\\t', classifier(1, lda.project_data(training_data), training_labels,\n",
        "                 lda.project_data(testing_data), testing_labels))"
      ]
    },
    {
      "cell_type": "markdown",
      "metadata": {
        "id": "Xf_E9fyKZlc1"
      },
      "source": [
        "For the faces dataset, the LDA always has better accuracy than PCA because its objective is to maximize the separation between classes and decraeses each class variance. Therefore, it's better in classification"
      ]
    },
    {
      "cell_type": "markdown",
      "metadata": {
        "id": "G0PE9M0xjYey"
      },
      "source": [
        "## 6.Classifier Tuning"
      ]
    },
    {
      "cell_type": "markdown",
      "metadata": {
        "id": "RThQcJLqY_fe"
      },
      "source": [
        "\n",
        "\n",
        "*   This function takes trained PCA and LDA and directly uses the projection matrices to transform the training matrices and compute the accuracy for different ks.\n",
        "*   Then, it plots a line plot that describe the relation between k and accuracy (for both LDA and PCA).\n",
        "\n"
      ]
    },
    {
      "cell_type": "code",
      "execution_count": null,
      "metadata": {
        "id": "6AxHOePmTeqO"
      },
      "outputs": [],
      "source": [
        "def compute_accuracy_for_ks(pca, lda, training_data, training_labels, testing_data, testing_labels, ks):\n",
        "\n",
        "  def compute_accuracies(projected_training_data, projected_testing_data):\n",
        "    accuracies = []\n",
        "    for k in ks:\n",
        "        _, accuracy = classifier(k, projected_training_data, training_labels, projected_testing_data, testing_labels)\n",
        "        accuracies.append(accuracy)\n",
        "    return accuracies\n",
        "\n",
        "  pca_projected_training_data = pca.project_data(training_data, 0.95)\n",
        "  pca_projected_testing_data = pca.project_data(testing_data, 0.95)\n",
        "\n",
        "  lda_projected_training_data = lda.project_data(training_data)\n",
        "  lda_projected_testing_data = lda.project_data(testing_data)\n",
        "\n",
        "  pca_accuracies = compute_accuracies(pca_projected_training_data, pca_projected_testing_data)\n",
        "  lda_accuracies = compute_accuracies(lda_projected_training_data, lda_projected_testing_data)\n",
        "\n",
        "  plt.plot(ks, pca_accuracies, label='pca')\n",
        "  plt.plot(ks, lda_accuracies, label='lda')\n",
        "\n",
        "  plt.legend()\n",
        "  plt.xlabel('K')\n",
        "  plt.ylabel('Accuracy')\n",
        "\n",
        "  plt.title('Relationship between K and Accuracy')\n",
        "\n",
        "  plt.show()"
      ]
    },
    {
      "cell_type": "code",
      "execution_count": null,
      "metadata": {
        "colab": {
          "base_uri": "https://localhost:8080/",
          "height": 295
        },
        "id": "f5HnprF8af8p",
        "outputId": "c5a44a6c-63e7-477c-dce0-b39cd18e19f5"
      },
      "outputs": [
        {
          "data": {
            "image/png": "[encoded data removed]",
            "text/plain": [
              "<Figure size 432x288 with 1 Axes>"
            ]
          },
          "metadata": {},
          "output_type": "display_data"
        }
      ],
      "source": [
        "compute_accuracy_for_ks(pca, lda, training_data, training_labels, testing_data, testing_labels, [1, 3, 5, 7])"
      ]
    },
    {
      "cell_type": "markdown",
      "metadata": {
        "id": "4Mt0VTBDZts1"
      },
      "source": [
        "Since LDA objective is to maximize the separation between classes threfore, it seems to be not affected too much by the K value in this dataset.\n",
        "On the other side, when increasing the k in PCA the accuracy decreases because the classes are not grouped together."
      ]
    },
    {
      "cell_type": "markdown",
      "metadata": {
        "id": "H-3ZzMWUzenW"
      },
      "source": [
        "## 7.Compare vs Non-Face Images"
      ]
    },
    {
      "cell_type": "markdown",
      "metadata": {
        "id": "MnYP_qQra8TF"
      },
      "source": [
        "\n",
        "\n",
        "*   This funciton filters the required classes.\n",
        "*   Then, the data is splitted to training set and testing set.\n",
        "\n"
      ]
    },
    {
      "cell_type": "code",
      "execution_count": null,
      "metadata": {
        "id": "Q6zOBDVRERLz"
      },
      "outputs": [],
      "source": [
        "def face_non_face_split(data_set, labels, train_size, required_label):\n",
        "\n",
        "  filtered_labels = labels == required_label\n",
        "\n",
        "  x = pd.DataFrame(data_set[filtered_labels])\n",
        "  y = pd.Series(labels[filtered_labels])\n",
        "\n",
        "  x_train, x_test, y_train, y_test = train_test_split(x, y, train_size = train_size)\n",
        "\n",
        "  return x_train, x_test, y_train, y_test\n"
      ]
    },
    {
      "cell_type": "markdown",
      "metadata": {
        "id": "h3w4fbqrbnG7"
      },
      "source": [
        "The paths of the faces test set are stored in **faces_test_indecies** in order to detect the success and failure cases."
      ]
    },
    {
      "cell_type": "code",
      "execution_count": null,
      "metadata": {
        "id": "7O3aRRxuMg_B"
      },
      "outputs": [],
      "source": [
        "face_training_data, face_testing_data, face_training_labels, face_testing_labels = face_non_face_split(face_non_face_dataset, face_non_face_label_vector, 0.7, 1)\n",
        "\n",
        "faces_test_indecies = np.array(faces_test_indecies)[face_testing_data.index.tolist()]"
      ]
    },
    {
      "cell_type": "markdown",
      "metadata": {
        "id": "deUsZrKcb8lr"
      },
      "source": [
        "\n",
        "\n",
        "*   Groups the training data of faces and non faces then\n",
        "*   It uses the LDA to project data into the direction that best descriminates the classes\n",
        "*   KNN classifier is then used to perform the classification and predicts the labels of test data of faces and non faces.\n",
        "*   Finally, the function returns the accuracy and the prediciton.\n",
        "\n"
      ]
    },
    {
      "cell_type": "code",
      "execution_count": null,
      "metadata": {
        "id": "CmW3o-Xvzmw5"
      },
      "outputs": [],
      "source": [
        "def face_non_face_calssification(face_training_data, face_testing_data, face_training_labels, face_testing_labels, train_size):\n",
        "\n",
        "  global fruits_test_indecies\n",
        "\n",
        "  non_face_training_data, non_face_testing_data, non_face_training_labels, non_face_testing_labels =  \\\n",
        "    face_non_face_split(face_non_face_dataset, face_non_face_label_vector, train_size, 2)\n",
        "\n",
        "  fruits_test_indecies = np.array(fruits_test_indecies)[non_face_testing_data.index.tolist()]\n",
        "\n",
        "  face_non_face_training_data = np.append(face_training_data.values, non_face_training_data.values, axis=0)\n",
        "  face_non_face_training_labels = np.append(face_training_labels.values, non_face_training_labels.values)\n",
        "  face_non_face_testing_data = np.append(face_testing_data.values, non_face_testing_data.values, axis=0)\n",
        "  face_non_face_testing_labels = np.append(face_testing_labels.values, non_face_testing_labels.values)\n",
        "\n",
        "  lda = LDA()\n",
        "\n",
        "  lda.fit(face_non_face_training_data, face_non_face_training_labels, 1)\n",
        "\n",
        "  p_training_data = lda.project_data(face_non_face_training_data)\n",
        "\n",
        "  p_testing_data = lda.project_data(face_non_face_testing_data)\n",
        "\n",
        "  prediction, accuracy = classifier(1, p_training_data, face_non_face_training_labels, p_testing_data, face_non_face_testing_labels)\n",
        "\n",
        "  return prediction, accuracy"
      ]
    },
    {
      "cell_type": "markdown",
      "metadata": {
        "id": "M25-RSPYcn_Z"
      },
      "source": [
        "\n",
        "*   Takes the preciciton and returns the image pathes of success and fail cases.\n",
        "\n"
      ]
    },
    {
      "cell_type": "code",
      "execution_count": null,
      "metadata": {
        "id": "KcMJtAaxMotT"
      },
      "outputs": [],
      "source": [
        "def check_success_failure(prediction, faces_test_indecies, fruits_test_indecies):\n",
        "\n",
        "  success, fail = [], []\n",
        "\n",
        "  for i in range(0, 120):\n",
        "    if prediction[i] == 1:\n",
        "      success.append(faces_test_indecies[i])\n",
        "    else:\n",
        "       fail.append(faces_test_indecies[i])\n",
        "\n",
        "  for i in range(120, len(prediction)):\n",
        "    if prediction[i] == 2:\n",
        "      success.append(fruits_test_indecies[i - 120])\n",
        "    else:\n",
        "       fail.append(fruits_test_indecies[i - 120])\n",
        "\n",
        "  return success, fail"
      ]
    },
    {
      "cell_type": "code",
      "execution_count": null,
      "metadata": {
        "colab": {
          "base_uri": "https://localhost:8080/"
        },
        "id": "H5zhlRqWm_cr",
        "outputId": "1c798e52-5585-4f7d-efff-a7136b378879"
      },
      "outputs": [
        {
          "name": "stdout",
          "output_type": "stream",
          "text": [
            "Prediction and Accuray:\t [1 1 1 1 1 1 1 1 1 1 1 1 2 1 1 1 1 1 2 1 1 1 1 1 1 1 1 1 1 1 1 1 1 1 1 1 1\n",
            " 1 1 1 1 1 1 1 1 1 1 1 1 1 1 1 1 1 1 1 1 1 1 1 1 1 1 1 1 1 1 1 1 1 1 1 1 1\n",
            " 1 1 1 1 1 1 1 1 1 1 1 1 1 1 1 1 1 1 1 1 1 1 1 1 1 1 1 1 1 1 1 1 1 1 1 1 1\n",
            " 1 1 1 1 1 1 1 1 1 2 2 1 2 2 2 2 2 2 1 2 2 2 2 2 2 2 2 2 2 2 1 2 2 1 2 2 2\n",
            " 2 2 2 2 2 2 2 2 2 2 2 2 2 2 2 2 2 2 2 2 2 2 1 2 2 2 2 2 2 2 1 2 2 2 1 1 2\n",
            " 2 2 2 2 2 2 2 2 1 2 2 2 2 2 1 2 2 2 2 2 2 2 2 1 2 2 2 1 2 2 2 2 2 2 2 2 2\n",
            " 2 2 2 2 2 2 1 2 2 1 1 2 2 2 1 2 2 2] 0.925\n",
            "Success cases:\t ['/faces-dataset/s21/4.pgm', '/faces-dataset/s29/9.pgm', '/faces-dataset/s30/3.pgm', '/faces-dataset/s16/3.pgm', '/faces-dataset/s32/9.pgm', '/faces-dataset/s2/9.pgm', '/faces-dataset/s37/10.pgm', '/faces-dataset/s15/5.pgm', '/faces-dataset/s34/3.pgm', '/faces-dataset/s26/2.pgm', '/faces-dataset/s32/6.pgm', '/faces-dataset/s24/6.pgm', '/faces-dataset/s27/5.pgm', '/faces-dataset/s13/4.pgm', '/faces-dataset/s12/6.pgm', '/faces-dataset/s13/9.pgm', '/faces-dataset/s10/6.pgm', '/faces-dataset/s27/8.pgm', '/faces-dataset/s35/8.pgm', '/faces-dataset/s29/5.pgm', '/faces-dataset/s10/8.pgm', '/faces-dataset/s33/1.pgm', '/faces-dataset/s31/9.pgm', '/faces-dataset/s11/9.pgm', '/faces-dataset/s38/5.pgm', '/faces-dataset/s28/7.pgm', '/faces-dataset/s32/7.pgm', '/faces-dataset/s26/5.pgm', '/faces-dataset/s39/9.pgm', '/faces-dataset/s21/6.pgm', '/faces-dataset/s20/8.pgm', '/faces-dataset/s39/1.pgm', '/faces-dataset/s37/3.pgm', '/faces-dataset/s34/6.pgm', '/faces-dataset/s35/4.pgm', '/faces-dataset/s5/6.pgm', '/faces-dataset/s28/8.pgm', '/faces-dataset/s17/7.pgm', '/faces-dataset/s25/7.pgm', '/faces-dataset/s26/4.pgm', '/faces-dataset/s40/9.pgm', '/faces-dataset/s35/10.pgm', '/faces-dataset/s25/2.pgm', '/faces-dataset/s25/1.pgm', '/faces-dataset/s4/3.pgm', '/faces-dataset/s36/9.pgm', '/faces-dataset/s4/9.pgm', '/faces-dataset/s30/8.pgm', '/faces-dataset/s34/1.pgm', '/faces-dataset/s18/5.pgm', '/faces-dataset/s30/4.pgm', '/faces-dataset/s18/8.pgm', '/faces-dataset/s3/8.pgm', '/faces-dataset/s22/10.pgm', '/faces-dataset/s7/5.pgm', '/faces-dataset/s38/3.pgm', '/faces-dataset/s29/2.pgm', '/faces-dataset/s13/7.pgm', '/faces-dataset/s24/9.pgm', '/faces-dataset/s23/5.pgm', '/faces-dataset/s11/2.pgm', '/faces-dataset/s32/8.pgm', '/faces-dataset/s12/7.pgm', '/faces-dataset/s39/10.pgm', '/faces-dataset/s35/3.pgm', '/faces-dataset/s20/6.pgm', '/faces-dataset/s24/10.pgm', '/faces-dataset/s4/6.pgm', '/faces-dataset/s30/5.pgm', '/faces-dataset/s29/8.pgm', '/faces-dataset/s27/6.pgm', '/faces-dataset/s32/4.pgm', '/faces-dataset/s24/5.pgm', '/faces-dataset/s18/3.pgm', '/faces-dataset/s38/1.pgm', '/faces-dataset/s7/1.pgm', '/faces-dataset/s18/1.pgm', '/faces-dataset/s23/10.pgm', '/faces-dataset/s36/6.pgm', '/faces-dataset/s23/1.pgm', '/faces-dataset/s2/3.pgm', '/faces-dataset/s16/8.pgm', '/faces-dataset/s6/5.pgm', '/faces-dataset/s2/10.pgm', '/faces-dataset/s27/9.pgm', '/faces-dataset/s31/7.pgm', '/faces-dataset/s15/7.pgm', '/faces-dataset/s33/3.pgm', '/faces-dataset/s34/4.pgm', '/faces-dataset/s2/5.pgm', '/faces-dataset/s23/8.pgm', '/faces-dataset/s36/2.pgm', '/faces-dataset/s1/4.pgm', '/faces-dataset/s22/3.pgm', '/faces-dataset/s28/5.pgm', '/faces-dataset/s15/1.pgm', '/faces-dataset/s15/3.pgm', '/faces-dataset/s5/10.pgm', '/faces-dataset/s25/3.pgm', '/faces-dataset/s24/1.pgm', '/faces-dataset/s22/2.pgm', '/faces-dataset/s10/3.pgm', '/faces-dataset/s37/5.pgm', '/faces-dataset/s23/3.pgm', '/faces-dataset/s14/2.pgm', '/faces-dataset/s17/4.pgm', '/faces-dataset/s29/4.pgm', '/faces-dataset/s31/2.pgm', '/faces-dataset/s18/2.pgm', '/faces-dataset/s7/9.pgm', '/faces-dataset/s40/7.pgm', '/faces-dataset/s38/6.pgm', '/faces-dataset/s22/7.pgm', '/faces-dataset/s4/7.pgm', '/faces-dataset/s17/3.pgm', '/faces-dataset/s38/10.pgm', '/faces-dataset/s3/10.pgm', '/faces-dataset/s40/8.pgm', '/non-faces-dataset/4/7.jpg', '/non-faces-dataset/1/44.jpg', '/non-faces-dataset/2/1.jpg', '/non-faces-dataset/3/74.jpg', '/non-faces-dataset/4/64.jpg', '/non-faces-dataset/3/55.jpg', '/non-faces-dataset/2/57.jpg', '/non-faces-dataset/3/17.jpg', '/non-faces-dataset/2/16.jpg', '/non-faces-dataset/4/30.jpg', '/non-faces-dataset/5/55.jpg', '/non-faces-dataset/2/73.jpg', '/non-faces-dataset/4/39.jpg', '/non-faces-dataset/1/13.jpg', '/non-faces-dataset/1/47.jpg', '/non-faces-dataset/3/30.jpg', '/non-faces-dataset/2/30.jpg', '/non-faces-dataset/3/1.jpg', '/non-faces-dataset/4/53.jpg', '/non-faces-dataset/4/62.jpg', '/non-faces-dataset/5/15.jpg', '/non-faces-dataset/1/59.jpg', '/non-faces-dataset/4/65.jpg', '/non-faces-dataset/2/36.jpg', '/non-faces-dataset/1/54.jpg', '/non-faces-dataset/5/48.jpg', '/non-faces-dataset/5/61.jpg', '/non-faces-dataset/5/12.jpg', '/non-faces-dataset/1/28.jpg', '/non-faces-dataset/3/50.jpg', '/non-faces-dataset/3/53.jpg', '/non-faces-dataset/2/66.jpg', '/non-faces-dataset/5/5.jpg', '/non-faces-dataset/1/67.jpg', '/non-faces-dataset/5/17.jpg', '/non-faces-dataset/4/50.jpg', '/non-faces-dataset/4/27.jpg', '/non-faces-dataset/5/18.jpg', '/non-faces-dataset/5/60.jpg', '/non-faces-dataset/3/78.jpg', '/non-faces-dataset/4/75.jpg', '/non-faces-dataset/4/18.jpg', '/non-faces-dataset/3/45.jpg', '/non-faces-dataset/5/20.jpg', '/non-faces-dataset/1/57.jpg', '/non-faces-dataset/5/21.jpg', '/non-faces-dataset/1/70.jpg', '/non-faces-dataset/5/43.jpg', '/non-faces-dataset/2/34.jpg', '/non-faces-dataset/1/24.jpg', '/non-faces-dataset/4/67.jpg', '/non-faces-dataset/4/15.jpg', '/non-faces-dataset/2/67.jpg', '/non-faces-dataset/2/29.jpg', '/non-faces-dataset/1/77.jpg', '/non-faces-dataset/3/68.jpg', '/non-faces-dataset/1/72.jpg', '/non-faces-dataset/1/78.jpg', '/non-faces-dataset/4/68.jpg', '/non-faces-dataset/3/23.jpg', '/non-faces-dataset/5/66.jpg', '/non-faces-dataset/2/71.jpg', '/non-faces-dataset/4/45.jpg', '/non-faces-dataset/4/8.jpg', '/non-faces-dataset/1/9.jpg', '/non-faces-dataset/2/31.jpg', '/non-faces-dataset/5/9.jpg', '/non-faces-dataset/2/20.jpg', '/non-faces-dataset/5/26.jpg', '/non-faces-dataset/1/33.jpg', '/non-faces-dataset/2/40.jpg', '/non-faces-dataset/1/74.jpg', '/non-faces-dataset/4/28.jpg', '/non-faces-dataset/5/39.jpg', '/non-faces-dataset/3/16.jpg', '/non-faces-dataset/1/62.jpg', '/non-faces-dataset/4/1.jpg', '/non-faces-dataset/5/69.jpg', '/non-faces-dataset/1/31.jpg', '/non-faces-dataset/5/42.jpg', '/non-faces-dataset/4/36.jpg', '/non-faces-dataset/3/12.jpg', '/non-faces-dataset/1/50.jpg', '/non-faces-dataset/5/76.jpg', '/non-faces-dataset/2/9.jpg', '/non-faces-dataset/5/54.jpg', '/non-faces-dataset/1/10.jpg', '/non-faces-dataset/1/16.jpg', '/non-faces-dataset/4/46.jpg', '/non-faces-dataset/4/32.jpg', '/non-faces-dataset/2/25.jpg', '/non-faces-dataset/5/63.jpg', '/non-faces-dataset/5/28.jpg', '/non-faces-dataset/5/73.jpg', '/non-faces-dataset/2/41.jpg', '/non-faces-dataset/3/47.jpg', '/non-faces-dataset/3/25.jpg', '/non-faces-dataset/2/18.jpg', '/non-faces-dataset/3/3.jpg', '/non-faces-dataset/3/18.jpg', '/non-faces-dataset/2/72.jpg', '/non-faces-dataset/5/41.jpg', '/non-faces-dataset/2/79.jpg', '/non-faces-dataset/1/17.jpg']\n",
            "Failed cases:\t ['/faces-dataset/s20/9.pgm', '/faces-dataset/s34/7.pgm', '/non-faces-dataset/3/64.jpg', '/non-faces-dataset/5/19.jpg', '/non-faces-dataset/5/40.jpg', '/non-faces-dataset/3/20.jpg', '/non-faces-dataset/4/2.jpg', '/non-faces-dataset/3/24.jpg', '/non-faces-dataset/1/27.jpg', '/non-faces-dataset/1/29.jpg', '/non-faces-dataset/1/48.jpg', '/non-faces-dataset/1/46.jpg', '/non-faces-dataset/2/39.jpg', '/non-faces-dataset/2/45.jpg', '/non-faces-dataset/2/26.jpg', '/non-faces-dataset/2/53.jpg', '/non-faces-dataset/1/68.jpg', '/non-faces-dataset/1/42.jpg']\n"
          ]
        }
      ],
      "source": [
        "prediction, accuracy = face_non_face_calssification(face_training_data, face_testing_data, face_training_labels, face_testing_labels, 0.7)\n",
        "print(\"Prediction and Accuray:\\t\", prediction, accuracy)\n",
        "\n",
        "success, fail = check_success_failure(prediction, faces_test_indecies, fruits_test_indecies)\n",
        "\n",
        "print(\"Success cases:\\t\", success)\n",
        "print(\"Failed cases:\\t\", fail)"
      ]
    },
    {
      "cell_type": "markdown",
      "metadata": {
        "id": "Rk1v-8qJdCE7"
      },
      "source": [
        "\n",
        "\n",
        "*   Plots the accuracy of classification when fixing faces data and increasing the size of non faces data.\n",
        "\n"
      ]
    },
    {
      "cell_type": "code",
      "execution_count": null,
      "metadata": {
        "colab": {
          "base_uri": "https://localhost:8080/",
          "height": 593
        },
        "id": "d1BXbWhDwi-A",
        "outputId": "186f8306-4e74-42b8-caf5-653d3dd0d65a"
      },
      "outputs": [
        {
          "name": "stdout",
          "output_type": "stream",
          "text": [
            "Accuracy for 400:\t 0.925\n"
          ]
        },
        {
          "name": "stderr",
          "output_type": "stream",
          "text": [
            "<ipython-input-13-cd9bb42c7add>:14: VisibleDeprecationWarning: Creating an ndarray from ragged nested sequences (which is a list-or-tuple of lists-or-tuples-or ndarrays with different lengths or shapes) is deprecated. If you meant to do this, you must specify 'dtype=object' when creating the ndarray.\n",
            "  class_subsets = np.array([data_matrix[labels == i] for i in range(1, classes_number + 1)])\n",
            "<ipython-input-13-cd9bb42c7add>:35: VisibleDeprecationWarning: Creating an ndarray from ragged nested sequences (which is a list-or-tuple of lists-or-tuples-or ndarrays with different lengths or shapes) is deprecated. If you meant to do this, you must specify 'dtype=object' when creating the ndarray.\n",
            "  centered_classes = np.array([class_subsets[i] - means[i] for i in range(len(means))])\n"
          ]
        },
        {
          "name": "stdout",
          "output_type": "stream",
          "text": [
            "Accuracy for 520:\t 0.925\n"
          ]
        },
        {
          "name": "stderr",
          "output_type": "stream",
          "text": [
            "<ipython-input-13-cd9bb42c7add>:14: VisibleDeprecationWarning: Creating an ndarray from ragged nested sequences (which is a list-or-tuple of lists-or-tuples-or ndarrays with different lengths or shapes) is deprecated. If you meant to do this, you must specify 'dtype=object' when creating the ndarray.\n",
            "  class_subsets = np.array([data_matrix[labels == i] for i in range(1, classes_number + 1)])\n",
            "<ipython-input-13-cd9bb42c7add>:35: VisibleDeprecationWarning: Creating an ndarray from ragged nested sequences (which is a list-or-tuple of lists-or-tuples-or ndarrays with different lengths or shapes) is deprecated. If you meant to do this, you must specify 'dtype=object' when creating the ndarray.\n",
            "  centered_classes = np.array([class_subsets[i] - means[i] for i in range(len(means))])\n"
          ]
        },
        {
          "name": "stdout",
          "output_type": "stream",
          "text": [
            "Accuracy for 640:\t 0.9291666666666667\n"
          ]
        },
        {
          "name": "stderr",
          "output_type": "stream",
          "text": [
            "<ipython-input-13-cd9bb42c7add>:14: VisibleDeprecationWarning: Creating an ndarray from ragged nested sequences (which is a list-or-tuple of lists-or-tuples-or ndarrays with different lengths or shapes) is deprecated. If you meant to do this, you must specify 'dtype=object' when creating the ndarray.\n",
            "  class_subsets = np.array([data_matrix[labels == i] for i in range(1, classes_number + 1)])\n",
            "<ipython-input-13-cd9bb42c7add>:35: VisibleDeprecationWarning: Creating an ndarray from ragged nested sequences (which is a list-or-tuple of lists-or-tuples-or ndarrays with different lengths or shapes) is deprecated. If you meant to do this, you must specify 'dtype=object' when creating the ndarray.\n",
            "  centered_classes = np.array([class_subsets[i] - means[i] for i in range(len(means))])\n"
          ]
        },
        {
          "name": "stdout",
          "output_type": "stream",
          "text": [
            "Accuracy for 760:\t 0.9041666666666667\n"
          ]
        },
        {
          "data": {
            "image/png": "[encoded data removed]",
            "text/plain": [
              "<Figure size 432x288 with 1 Axes>"
            ]
          },
          "metadata": {},
          "output_type": "display_data"
        }
      ],
      "source": [
        "accuracies = []\n",
        "\n",
        "for x in range(400, 800, 120):\n",
        "\n",
        "  global face_non_face_dataset, face_non_face_label_vector, fruits_test_indecies\n",
        "\n",
        "  face_non_face_dataset, face_non_face_label_vector, _, fruits_test_indecies = generate_data_and_label_face_non_face('/faces-dataset', '/non-faces-dataset', x)\n",
        "\n",
        "  prediction, accuracy = face_non_face_calssification(face_training_data, face_testing_data, face_training_labels, face_testing_labels, (x - 120)/(float)(x))\n",
        "\n",
        "  print(\"Accuracy for \" + str(x) + \":\\t\", accuracy)\n",
        "\n",
        "  accuracies.append(accuracy)\n",
        "\n",
        "plt.plot(np.arange(400, 800, 120), accuracies)\n",
        "plt.xlabel('Non-Face images size')\n",
        "plt.ylabel('Accuracy')\n",
        "plt.title('Relationship between size of non face images and Accuracy')\n",
        "plt.show()"
      ]
    },
    {
      "cell_type": "markdown",
      "metadata": {
        "id": "TvuBJ6Yeg13h"
      },
      "source": [
        "\n",
        "At first the accuracy tends to be improved slightly then it decreases and this is because that the class with the more samples \"Non-faces\" affect the decision boundary and bias the classification towards it and the classifier tends to predict non faces more than faces which will decrease the accuracy\n",
        "\n"
      ]
    },
    {
      "cell_type": "markdown",
      "metadata": {
        "id": "0XnosGP0jsYH"
      },
      "source": [
        "## 8.Bonus"
      ]
    },
    {
      "cell_type": "markdown",
      "metadata": {
        "id": "Ua3mbhqvyJad"
      },
      "source": [
        "#### a) Different Training and Test splits"
      ]
    },
    {
      "cell_type": "markdown",
      "metadata": {
        "id": "QecY6Sv_dRrX"
      },
      "source": [
        "\n",
        "\n",
        "*   The accuracy is computed using different split; instead of 50-50 we increased the size of training data to be 70.\n",
        "\n"
      ]
    },
    {
      "cell_type": "code",
      "execution_count": null,
      "metadata": {
        "id": "9C6SkmMDj66r"
      },
      "outputs": [],
      "source": [
        "training_data, training_labels, testing_data, testing_labels = split_dataset(data_matrix, label_vector,\n",
        "                                                                             np.arange(data_matrix.shape[0]) % 10 < 7)"
      ]
    },
    {
      "cell_type": "code",
      "execution_count": null,
      "metadata": {
        "id": "K61wskMA0qRU"
      },
      "outputs": [],
      "source": [
        "pca.fit(training_data)"
      ]
    },
    {
      "cell_type": "code",
      "execution_count": null,
      "metadata": {
        "colab": {
          "base_uri": "https://localhost:8080/",
          "height": 295
        },
        "id": "cCGzzXld0tos",
        "outputId": "d01726a4-0132-45ae-c231-4332ac440729"
      },
      "outputs": [
        {
          "data": {
            "image/png": "[encoded data removed]",
            "text/plain": [
              "<Figure size 432x288 with 1 Axes>"
            ]
          },
          "metadata": {},
          "output_type": "display_data"
        }
      ],
      "source": [
        "compute_accuracy_for_alphas(pca, training_data, training_labels, testing_data, testing_labels,\n",
        "                            [0.8, 0.85, 0.9, 0.95])"
      ]
    },
    {
      "cell_type": "markdown",
      "metadata": {
        "id": "W7Vy2SxSdgra"
      },
      "source": [
        "\n",
        "\n",
        " The accuracy of pca improved when using more training data.\n",
        "\n"
      ]
    },
    {
      "cell_type": "code",
      "execution_count": null,
      "metadata": {
        "colab": {
          "base_uri": "https://localhost:8080/"
        },
        "id": "gmnqCo0oNcHk",
        "outputId": "11a04385-47b6-4758-f8f0-3c8af5bfd0f9"
      },
      "outputs": [
        {
          "data": {
            "text/plain": [
              "array([[-0.00431265,  0.00120864, -0.00490706, ..., -0.00431158,\n",
              "         0.0037851 ,  0.00329748],\n",
              "       [-0.00031091, -0.00105019, -0.00707077, ..., -0.00092244,\n",
              "         0.0033981 , -0.0006664 ],\n",
              "       [-0.00046923, -0.00203809, -0.00604414, ..., -0.00122868,\n",
              "         0.00617534,  0.00036863],\n",
              "       ...,\n",
              "       [ 0.02348746,  0.00689234, -0.01550597, ..., -0.00498221,\n",
              "         0.01517272, -0.00502765],\n",
              "       [ 0.02082171,  0.01065187, -0.00321983, ...,  0.00311702,\n",
              "        -0.00207084, -0.00581951],\n",
              "       [ 0.01898468,  0.00713215,  0.00400228, ...,  0.01263888,\n",
              "        -0.00525256, -0.00287767]])"
            ]
          },
          "execution_count": 91,
          "metadata": {},
          "output_type": "execute_result"
        }
      ],
      "source": [
        "lda.fit(training_data, training_labels, 39)"
      ]
    },
    {
      "cell_type": "code",
      "execution_count": null,
      "metadata": {
        "colab": {
          "base_uri": "https://localhost:8080/",
          "height": 295
        },
        "id": "IUYhgz4n0ySc",
        "outputId": "71d42569-7534-4751-f4ab-5cf8eb259891"
      },
      "outputs": [
        {
          "data": {
            "image/png": "[encoded data removed]",
            "text/plain": [
              "<Figure size 432x288 with 1 Axes>"
            ]
          },
          "metadata": {},
          "output_type": "display_data"
        }
      ],
      "source": [
        "compute_accuracy_for_ks(pca, lda, training_data, training_labels, testing_data, testing_labels, [1, 3, 5, 7])"
      ]
    },
    {
      "cell_type": "markdown",
      "metadata": {
        "id": "KVvl26QHd0In"
      },
      "source": [
        "\n",
        "\n",
        " Both PCA and LDA accuracies have increased and LDA is almost not affected by changing the K. On the other side, the PCA accuracy is dramatically affected by increasing the size of K.\n",
        "\n"
      ]
    },
    {
      "cell_type": "markdown",
      "metadata": {
        "id": "m9xha6ieN6Kj"
      },
      "source": [
        "#### b) Varaiton of PCA and LDA"
      ]
    },
    {
      "cell_type": "code",
      "execution_count": null,
      "metadata": {
        "id": "kT3ZbJ_0RtbM"
      },
      "outputs": [],
      "source": [
        "training_data, training_labels, testing_data, testing_labels = split_dataset(data_matrix, label_vector,\n",
        "                                                                             np.arange(data_matrix.shape[0]) % 2 == 1)"
      ]
    },
    {
      "cell_type": "markdown",
      "metadata": {
        "id": "yuXMjQlVeMRX"
      },
      "source": [
        "\n",
        "1.   **Randomized PCA:** [Geeks for geeks article](https://www.geeksforgeeks.org/python-variations-of-principal-component-analysis/)\n",
        "\n",
        "    Randomized PCA is a variation of Principal Component Analysis (PCA) that is designed to approximate the first k principal components of a large dataset efficiently. Instead of computing the eigenvectors of the covariance matrix of the data, as is done in traditional PCA, randomized PCA uses a random projection matrix to map the data to a lower-dimensional subspace. The first k principal components of the data can then be approximated by computing the eigenvectors of the covariance matrix of the projected data.\n",
        "\n",
        "  Randomized PCA has several advantages over traditional PCA:\n",
        "\n",
        "    Scalability: Randomized PCA can handle large datasets that are not possible to fit into memory using traditional PCA.\n",
        "Speed: Randomized PCA is much faster than traditional PCA for large datasets, making it more suitable for real-time applications.\n",
        "Sparsity: Randomized PCA is able to handle sparse datasets, which traditional PCA is not able to handle well.\n",
        "Low-rank approximation: Randomized PCA can be used to obtain a low-rank approximation of a large dataset, which can then be used for further analysis or visualization.\n",
        "\n",
        "\n",
        "2.   **Shrinkage LDA:** [Geeks for geeks article](https://www.geeksforgeeks.org/normal-and-shrinkage-linear-discriminant-analysis-for-classification-in-scikit-learn/)\n",
        "\n",
        "    Shrinkage linear discriminant analysis (LDA) is a variant of LDA that uses a shrinkage estimator to regularize the covariance matrices of the classes. In normal LDA, the covariance matrices are estimated using the sample covariance of the entire dataset, which can be unstable and lead to overfitting. Shrinkage LDA addresses this issue by using a shrinkage estimator, such as the Ledoit-Wolf estimator, to regularize the covariance matrices and improve their stability.\n",
        "\n"
      ]
    },
    {
      "cell_type": "code",
      "execution_count": null,
      "metadata": {
        "id": "JdN2IvD0Oa1Y"
      },
      "outputs": [],
      "source": [
        "def compute_accuracy_for_variations(training_data, training_labels, testing_data, testing_labels):\n",
        "\n",
        "  pca_accuracies, pca_time = [], []\n",
        "\n",
        "  for x in range(1, 200, 10):\n",
        "\n",
        "    start_time = time.time()\n",
        "\n",
        "    pca = PCA_Randomized(n_components=x,svd_solver='randomized')\n",
        "\n",
        "    pca.fit(training_data)\n",
        "    pca_projected_training_data = pca.transform(training_data)\n",
        "    pca_projected_testing_data = pca.transform(testing_data)\n",
        "    _, pca_accuracy = classifier(1, pca_projected_training_data, training_labels,\n",
        "                            pca_projected_testing_data, testing_labels)\n",
        "\n",
        "    end_time = time.time()\n",
        "\n",
        "    pca_accuracies.append(pca_accuracy)\n",
        "    pca_time.append(end_time - start_time)\n",
        "\n",
        "  plt.plot(np.arange(1, 200, 10), pca_accuracies)\n",
        "  plt.xlabel('Number of components')\n",
        "  plt.ylabel('Accuracy')\n",
        "  plt.title('Relationship between Number of components and Accuracy')\n",
        "  plt.show()\n",
        "\n",
        "\n",
        "  start_time = time.time()\n",
        "\n",
        "  shrinkage_lda = Shrinkage_LDA(solver='eigen', shrinkage='auto')\n",
        "  shrinkage_lda.fit(training_data, training_labels)\n",
        "\n",
        "  shrinkage_lda_training_data = shrinkage_lda.transform(training_data)\n",
        "  shrinkage_lda_projected_testing_data = shrinkage_lda.transform(testing_data)\n",
        "  _, shrinkage_lda_accuracy = classifier(1, shrinkage_lda_training_data, training_labels,\n",
        "                           shrinkage_lda_projected_testing_data, testing_labels)\n",
        "\n",
        "  end_time = time.time()\n",
        "\n",
        "  shrinkage_lda_time =  end_time - start_time\n",
        "\n",
        "\n",
        "  print(\"Randomized PCA Accuracy:\\t\", np.median(pca_accuracies))\n",
        "  print(\"Randomized PCA Time:\\t\", np.mean(pca_time))\n",
        "\n",
        "  print(\"Shrinkage LDA Accuracy:\\t\", shrinkage_lda_accuracy)\n",
        "  print(\"Shrinkage LDA Time:\\t\", shrinkage_lda_time)"
      ]
    },
    {
      "cell_type": "code",
      "execution_count": null,
      "metadata": {
        "colab": {
          "base_uri": "https://localhost:8080/",
          "height": 364
        },
        "id": "YbEIgWwlTTOE",
        "outputId": "8a97e1c6-a2cc-4129-dac6-9fc217593aff"
      },
      "outputs": [
        {
          "data": {
            "image/png": "[encoded data removed]",
            "text/plain": [
              "<Figure size 432x288 with 1 Axes>"
            ]
          },
          "metadata": {},
          "output_type": "display_data"
        },
        {
          "name": "stdout",
          "output_type": "stream",
          "text": [
            "Randomized PCA Accuracy:\t 0.94\n",
            "Randomized PCA Time:\t 1.1928571939468384\n",
            "Shrinkage LDA Accuracy:\t 0.985\n",
            "Shrinkage LDA Time:\t 598.3681540489197\n"
          ]
        }
      ],
      "source": [
        "compute_accuracy_for_variations(training_data, training_labels, testing_data, testing_labels)"
      ]
    },
    {
      "cell_type": "markdown",
      "metadata": {
        "id": "qMwr8_ruXaN0"
      },
      "source": [
        "Time complexity and Accuracy comparison between PCA and Randomized PCA"
      ]
    },
    {
      "cell_type": "code",
      "execution_count": null,
      "metadata": {
        "colab": {
          "base_uri": "https://localhost:8080/"
        },
        "id": "dwBOOmKVXZGy",
        "outputId": "11034e7f-20f9-4146-d92c-b36da58062ca"
      },
      "outputs": [
        {
          "name": "stdout",
          "output_type": "stream",
          "text": [
            "PCA Time 321.3067455291748\n",
            "PCA Accuracy 0.93\n",
            "Randomized PCA Time 1.0312731266021729\n",
            "Randomized PCA Accuracy 0.945\n"
          ]
        }
      ],
      "source": [
        "pca_time, pca_accuracies = [], []\n",
        "\n",
        "for i in range(3):\n",
        "\n",
        "  start_time = time.time()\n",
        "\n",
        "  pca = PCA()\n",
        "  pca.fit(training_data)\n",
        "\n",
        "  projected_training_data = pca.project_data(training_data, 0.8)\n",
        "  projected_testing_data = pca.project_data(testing_data, 0.8)\n",
        "  _, accuracy = classifier(1, projected_training_data, training_labels,\n",
        "                              projected_testing_data, testing_labels)\n",
        "\n",
        "  end_time = time.time()\n",
        "\n",
        "  pca_time.append(end_time - start_time)\n",
        "  pca_accuracies.append(accuracy)\n",
        "\n",
        "randomized_pca_time, randomized_pca_accuracies = [], []\n",
        "\n",
        "for i in range(3):\n",
        "\n",
        "  start_time = time.time()\n",
        "\n",
        "  pca = PCA_Randomized(n_components=80,svd_solver='randomized')\n",
        "\n",
        "  pca.fit(training_data)\n",
        "  pca_projected_training_data = pca.transform(training_data)\n",
        "  pca_projected_testing_data = pca.transform(testing_data)\n",
        "  _, pca_accuracy = classifier(1, pca_projected_training_data, training_labels,\n",
        "                            pca_projected_testing_data, testing_labels)\n",
        "\n",
        "  end_time = time.time()\n",
        "\n",
        "  randomized_pca_time.append(end_time - start_time)\n",
        "  randomized_pca_accuracies.append(pca_accuracy)\n",
        "\n",
        "print(\"PCA Time\", np.mean(pca_time))\n",
        "print(\"PCA Accuracy\", np.mean(pca_accuracies))\n",
        "\n",
        "print(\"Randomized PCA Time\", np.mean(randomized_pca_time))\n",
        "print(\"Randomized PCA Accuracy\", np.mean(randomized_pca_accuracies))"
      ]
    },
    {
      "cell_type": "markdown",
      "metadata": {
        "id": "wFMKb9LKXpLP"
      },
      "source": [
        "Time complexity and Accuracy comparison between LDA and Shrinkage LDA"
      ]
    },
    {
      "cell_type": "code",
      "execution_count": null,
      "metadata": {
        "colab": {
          "base_uri": "https://localhost:8080/"
        },
        "id": "KCGUbhYgXYZO",
        "outputId": "15fb3027-2179-4a82-e6ea-5c98e57ff861"
      },
      "outputs": [
        {
          "name": "stdout",
          "output_type": "stream",
          "text": [
            "LDA Time 1871.5823781490326\n",
            "LDA Accuracy 0.96\n",
            "Shrinkage LDA Time 559.4018071492513\n",
            "Shrinkage LDA Accuracy 0.985\n"
          ]
        }
      ],
      "source": [
        "lda_time, lda_accuracies = [], []\n",
        "\n",
        "for i in range(3):\n",
        "\n",
        "  start_time = time.time()\n",
        "\n",
        "  lda = LDA()\n",
        "  lda.fit(training_data, training_labels, 39)\n",
        "  projected_data = lda.project_data(training_data)\n",
        "  projected_test_data = lda.project_data(testing_data)\n",
        "  _, accuracy = classifier(1, projected_data, training_labels, projected_test_data, testing_labels)\n",
        "\n",
        "  end_time = time.time()\n",
        "\n",
        "  lda_time.append(end_time - start_time)\n",
        "  lda_accuracies.append(accuracy)\n",
        "\n",
        "shrinkage_lda_time, shrinkage_lda_accuracies = [], []\n",
        "\n",
        "for i in range(3):\n",
        "\n",
        "  start_time = time.time()\n",
        "\n",
        "  shrinkage_lda = Shrinkage_LDA(solver='eigen', shrinkage='auto')\n",
        "  shrinkage_lda.fit(training_data, training_labels)\n",
        "\n",
        "  shrinkage_lda_training_data = shrinkage_lda.transform(training_data)\n",
        "  shrinkage_lda_projected_testing_data = shrinkage_lda.transform(testing_data)\n",
        "  _, shrinkage_lda_accuracy = classifier(1, shrinkage_lda_training_data, training_labels,\n",
        "                           shrinkage_lda_projected_testing_data, testing_labels)\n",
        "\n",
        "  end_time = time.time()\n",
        "\n",
        "  shrinkage_lda_time.append(end_time - start_time)\n",
        "  shrinkage_lda_accuracies.append(shrinkage_lda_accuracy)\n",
        "\n",
        "print(\"LDA Time\", np.mean(lda_time))\n",
        "print(\"LDA Accuracy\", np.mean(lda_accuracies))\n",
        "\n",
        "print(\"Shrinkage LDA Time\", np.mean(shrinkage_lda_time))\n",
        "print(\"Shrinkage LDA Accuracy\", np.mean(shrinkage_lda_accuracies))"
      ]
    }
  ],
  "metadata": {
    "colab": {
      "provenance": [],
      "include_colab_link": true
    },
    "gpuClass": "standard",
    "kernelspec": {
      "display_name": "Python 3",
      "name": "python3"
    },
    "language_info": {
      "name": "python"
    }
  },
  "nbformat": 4,
  "nbformat_minor": 0
}